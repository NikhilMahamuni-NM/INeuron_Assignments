{
 "cells": [
  {
   "cell_type": "markdown",
   "id": "addccd1a",
   "metadata": {},
   "source": [
    "# Assignment-12 - 01st july Assignment"
   ]
  },
  {
   "cell_type": "markdown",
   "id": "efa60cf3",
   "metadata": {},
   "source": [
    "## 1. What is the primary goal of Object-Oriented Programming (OOP)?"
   ]
  },
  {
   "cell_type": "markdown",
   "id": "2e77e836",
   "metadata": {},
   "source": [
    "The primary goal of Object-Oriented Programming (OOP) is to organize and structure code in a way that promotes reusability, modularity, and maintainability. It achieves this by representing real-world entities as objects, which encapsulate data (attributes) and behavior (methods) into a single unit."
   ]
  },
  {
   "cell_type": "markdown",
   "id": "9db9fecc",
   "metadata": {},
   "source": [
    "## 2. What is an object in Python?"
   ]
  },
  {
   "cell_type": "markdown",
   "id": "f78e20aa",
   "metadata": {},
   "source": [
    "An object is an instance of a class. It is a concrete entity that represents a specific instance of a class and has its own unique set of attributes and methods. Objects are created using the class definition as a blueprint, and they can interact with each other by invoking methods and accessing attributes."
   ]
  },
  {
   "cell_type": "markdown",
   "id": "bbd7ba94",
   "metadata": {},
   "source": [
    "## 3. What is a class in Python?"
   ]
  },
  {
   "cell_type": "markdown",
   "id": "18a18947",
   "metadata": {},
   "source": [
    "A class is a blueprint or a template that defines the attributes and methods that an object of that class will have. It serves as a blueprint for creating objects with similar properties and behaviors. A class encapsulates data and behavior into a single unit and allows for the creation of multiple instances (objects) based on that blueprint."
   ]
  },
  {
   "cell_type": "markdown",
   "id": "17d8a33c",
   "metadata": {},
   "source": [
    "## 4. What are attributes and methods in a class?"
   ]
  },
  {
   "cell_type": "markdown",
   "id": "8928157b",
   "metadata": {},
   "source": [
    "* Attributes in a class are variables that hold data associated with objects created from that class. They represent the state or characteristics of an object. For example, in a \"Book\" class, attributes such as \"title,\" \"author,\" and \"isbn\" represent the properties of a book.\n",
    "\n",
    "* Methods in a class are functions that define the behavior or actions that objects of that class can perform. They operate on the attributes of the class and can modify the state of the object or perform specific actions. For example, in the same \"Book\" class, methods like \"check_out,\" \"return_book,\" and \"display_book_info\" define the actions that can be performed on a book object."
   ]
  },
  {
   "cell_type": "markdown",
   "id": "bd9676d3",
   "metadata": {},
   "source": [
    "## 5. What is the difference between class variables and instance variables in Python?"
   ]
  },
  {
   "cell_type": "markdown",
   "id": "3ddc7034",
   "metadata": {},
   "source": [
    "* Class variables are variables that are shared among all instances (objects) of a class. They are defined within the class but outside any methods. Class variables have the same value for all instances of the class. They are accessed using the class name.\n",
    "\n",
    "* Instance variables, are unique to each instance (object) of a class. They are defined within a class's methods and have different values for each instance. Instance variables are accessed using the instance name."
   ]
  },
  {
   "cell_type": "markdown",
   "id": "f371a3dd",
   "metadata": {},
   "source": [
    "## 6. What is the purpose of the self parameter in Python class methods?"
   ]
  },
  {
   "cell_type": "markdown",
   "id": "4a8cedf0",
   "metadata": {},
   "source": [
    "In python class methods, the self parameter refers to the current instance (object) of the class that the method is being called on. It allows the method to access and manipulate the attributes and methods of that specific instance. It also initializes the variable."
   ]
  },
  {
   "cell_type": "markdown",
   "id": "6bdfe70e",
   "metadata": {},
   "source": [
    "## 7. For a library management system, you have to design the \"Book\" class with OOP principles in mind. The “Book” class will have following attributes:\n",
    "* a. title: Represents the title of the book.\n",
    "* b. author: Represents the author(s) of the book.\n",
    "* c. isbn: Represents the ISBN (International Standard Book Number) of the book.\n",
    "* d. publication_year: Represents the year of publication of the book.\n",
    "* e. available_copies: Represents the number of copies available for checkout.\n",
    "The class will also include the following methods:\n",
    "* a. check_out(self): Decrements the available copies by one if there are copies\n",
    "available for checkout.\n",
    "* b. return_book(self): Increments the available copies by one when a book is\n",
    "returned.\n",
    "* c. display_book_info(self): Displays the information about the book, including its\n",
    "attributes and the number of available copies."
   ]
  },
  {
   "cell_type": "code",
   "execution_count": 1,
   "id": "09816835",
   "metadata": {},
   "outputs": [
    {
     "name": "stdout",
     "output_type": "stream",
     "text": [
      "Book Information:\n",
      "Title: Sapiens\n",
      "Author: Krish Naik\n",
      "ISBN: 25252\n",
      "Publication Year: 2023\n",
      "Available Copies: 125000\n",
      "Book returned successfully.\n",
      "Book Information:\n",
      "Title: Sapiens\n",
      "Author: Krish Naik\n",
      "ISBN: 25252\n",
      "Publication Year: 2023\n",
      "Available Copies: 125001\n"
     ]
    }
   ],
   "source": [
    "class Book:\n",
    "    def __init__(self, title, author, isbn, publication_year, available_copies):\n",
    "        self.title = title\n",
    "        self.author = author\n",
    "        self.isbn = isbn\n",
    "        self.publication_year = publication_year\n",
    "        self.available_copies = available_copies\n",
    "\n",
    "    def check_out(self):\n",
    "        if self.available_copies > 0:\n",
    "            self.available_copies -= 1\n",
    "            print(\"Book checked out successfully.\")\n",
    "        else:\n",
    "            print(\"No copies available for checkout.\")\n",
    "\n",
    "    def return_book(self):\n",
    "        self.available_copies += 1\n",
    "        print(\"Book returned successfully.\")\n",
    "\n",
    "    def display_book_info(self):\n",
    "        print(\"Book Information:\")\n",
    "        print(\"Title:\", self.title)\n",
    "        print(\"Author:\", self.author)\n",
    "        print(\"ISBN:\", self.isbn)\n",
    "        print(\"Publication Year:\", self.publication_year)\n",
    "        print(\"Available Copies:\", self.available_copies)\n",
    "\n",
    "book = Book(\"Sapiens\",\"Krish Naik\",25252,2023,125000)\n",
    "Book.display_book_info(book)\n",
    "Book.return_book(book)\n",
    "Book.display_book_info(book)"
   ]
  },
  {
   "cell_type": "markdown",
   "id": "c6da8033",
   "metadata": {},
   "source": [
    "## 8. For a ticket booking system, you have to design the \"Ticket\" class with OOP principles in mind. The “Ticket” class should have the following attributes:\n",
    "\n",
    "* a. ticket_id: Represents the unique identifier for the ticket.\n",
    "* b. event_name: Represents the name of the event.\n",
    "* c. event_date: Represents the date of the event.\n",
    "* d. venue: Represents the venue of the event.\n",
    "* e. seat_number: Represents the seat number associated with the ticket.\n",
    "* f. price: Represents the price of the ticket.\n",
    "* g. is_reserved: Represents the reservation status of the ticket.\n",
    "The class also includes the following methods:\n",
    "* a. reserve_ticket(self): Marks the ticket as reserved if it is not already reserved.\n",
    "* b. cancel_reservation(self): Cancels the reservation of the ticket if it is already\n",
    "reserved.\n",
    "* c. display_ticket_info(self): Displays the information about the ticket, including its\n",
    "attributes and reservation status."
   ]
  },
  {
   "cell_type": "code",
   "execution_count": 2,
   "id": "33bd4790",
   "metadata": {},
   "outputs": [
    {
     "name": "stdout",
     "output_type": "stream",
     "text": [
      "Ticket Information:\n",
      "Ticket ID: TICKET001\n",
      "Event Name: Vacation\n",
      "Event Date: 22 Dec 2023\n",
      "Venue: Calangute\n",
      "Seat Number: 25\n",
      "Price: 2599\n",
      "Reservation Status: Not Reserved\n",
      "Ticket reserved successfully.\n",
      "Reservation canceled successfully.\n"
     ]
    }
   ],
   "source": [
    "class Ticket:\n",
    "    def __init__(self, ticket_id, event_name, event_date, venue, seat_number, price):\n",
    "        self.ticket_id = ticket_id\n",
    "        self.event_name = event_name\n",
    "        self.event_date = event_date\n",
    "        self.venue = venue\n",
    "        self.seat_number = seat_number\n",
    "        self.price = price\n",
    "        self.is_reserved = False\n",
    "\n",
    "    def reserve_ticket(self):\n",
    "        if not self.is_reserved:\n",
    "            self.is_reserved = True\n",
    "            print(\"Ticket reserved successfully.\")\n",
    "        else:\n",
    "            print(\"Ticket is already reserved.\")\n",
    "\n",
    "    def cancel_reservation(self):\n",
    "        if self.is_reserved:\n",
    "            self.is_reserved = False\n",
    "            print(\"Reservation canceled successfully.\")\n",
    "        else:\n",
    "            print(\"Ticket is not reserved.\")\n",
    "\n",
    "    def display_ticket_info(self):\n",
    "        print(\"Ticket Information:\")\n",
    "        print(\"Ticket ID:\", self.ticket_id)\n",
    "        print(\"Event Name:\", self.event_name)\n",
    "        print(\"Event Date:\", self.event_date)\n",
    "        print(\"Venue:\", self.venue)\n",
    "        print(\"Seat Number:\", self.seat_number)\n",
    "        print(\"Price:\", self.price)\n",
    "        print(\"Reservation Status:\", \"Reserved\" if self.is_reserved else \"Not Reserved\")\n",
    "\n",
    "Goa = Ticket(\"TICKET001\",\"Vacation\",\"22 Dec 2023\",\"Calangute\", 25,2599)\n",
    "Goa.display_ticket_info()\n",
    "Goa.reserve_ticket()\n",
    "Goa.cancel_reservation()"
   ]
  },
  {
   "cell_type": "markdown",
   "id": "4b04e385",
   "metadata": {},
   "source": [
    "## 9. You are creating a shopping cart for an e-commerce website. Using OOP to model the \"ShoppingCart\" functionality the class should contain following attributes and methods:\n",
    "\n",
    "* a. items: Represents the list of items in the shopping cart.\n",
    "The class also includes the following methods:\n",
    "\n",
    "* a. add_item(self, item): Adds an item to the shopping cart by appending it to the\n",
    "list of items.\n",
    "* b. remove_item(self, item): Removes an item from the shopping cart if it exists in\n",
    "the list.\n",
    "* c. view_cart(self): Displays the items currently present in the shopping cart.\n",
    "* d. clear_cart(self): Clears all items from the shopping cart by reassigning an\n",
    "empty list to the items attribute."
   ]
  },
  {
   "cell_type": "code",
   "execution_count": 3,
   "id": "055858a0",
   "metadata": {},
   "outputs": [
    {
     "name": "stdout",
     "output_type": "stream",
     "text": [
      "Item added to the shopping cart.\n",
      "Item added to the shopping cart.\n",
      "Items in the shopping cart:\n",
      "-  Toothpaste\n",
      "-  Handwash\n",
      "Shopping cart cleared.\n"
     ]
    }
   ],
   "source": [
    "class ShoppingCart:\n",
    "    def __init__(self):\n",
    "        self.items = []\n",
    "\n",
    "    def add_item(self, item):\n",
    "        self.items.append(item)\n",
    "        print(\"Item added to the shopping cart.\")\n",
    "\n",
    "    def remove_item(self, item):\n",
    "        if item in self.items:\n",
    "            self.items.remove(item)\n",
    "            print(\"Item removed from the shopping cart.\")\n",
    "        else:\n",
    "            print(\"Item not found in the shopping cart.\")\n",
    "\n",
    "    def view_cart(self):\n",
    "        if self.items:\n",
    "            print(\"Items in the shopping cart:\")\n",
    "            for item in self.items:\n",
    "                print(\"- \", item)\n",
    "        else:\n",
    "            print(\"Shopping cart is empty.\")\n",
    "\n",
    "    def clear_cart(self):\n",
    "        self.items = []\n",
    "        print(\"Shopping cart cleared.\")\n",
    "\n",
    "Amazon = ShoppingCart()\n",
    "Amazon.add_item(\"Toothpaste\")\n",
    "Amazon.add_item(\"Handwash\")\n",
    "\n",
    "Amazon.view_cart()\n",
    "Amazon.clear_cart()"
   ]
  },
  {
   "cell_type": "markdown",
   "id": "6a1fac71",
   "metadata": {},
   "source": [
    "## 10. Imagine a school management system. You have to design the \"Student\" class using OOP concepts.The “Student” class has the following attributes:\n",
    "\n",
    "* a. name: Represents the name of the student.\n",
    "* b. age: Represents the age of the student.\n",
    "* c. grade: Represents the grade or class of the student.\n",
    "* d. student_id: Represents the unique identifier for the student.\n",
    "* e. attendance: Represents the attendance record of the student.\n",
    "___\n",
    "* The class should also include the following methods:\n",
    "* a. update_attendance(self, date, status): Updates the attendance record of the\n",
    "student for a given date with the provided status (e.g., present or absent).\n",
    "* b. get_attendance(self): Returns the attendance record of the student.\n",
    "* c. get_average_attendance(self): Calculates and returns the average\n",
    "attendance percentage of the student based on their attendance record."
   ]
  },
  {
   "cell_type": "code",
   "execution_count": 5,
   "id": "dabc396a",
   "metadata": {},
   "outputs": [
    {
     "name": "stdout",
     "output_type": "stream",
     "text": [
      "Attendance updated for 2023-08-01\n",
      "Attendance updated for 2023-08-02\n",
      "Attendance updated for 2023-08-03\n",
      "Attendance Record: {'2023-08-01': 'present', '2023-08-02': 'absent', '2023-08-03': 'present'}\n",
      "Average Attendance Percentage: 66.667 %\n"
     ]
    }
   ],
   "source": [
    "class Student:\n",
    "    def __init__(self, name, age, grade, student_id):\n",
    "        self.name = name\n",
    "        self.age = age\n",
    "        self.grade = grade\n",
    "        self.student_id = student_id\n",
    "        self.attendance = {}\n",
    "\n",
    "    def update_attendance(self, date, status):\n",
    "        self.attendance[date] = status\n",
    "        print(\"Attendance updated for\", date)\n",
    "\n",
    "    def get_attendance(self):\n",
    "        return self.attendance\n",
    "\n",
    "    def get_average_attendance(self):\n",
    "        total_days = len(self.attendance)\n",
    "        present_days = sum(value == \"present\" for value in self.attendance.values())\n",
    "        attendance_percentage = (present_days / total_days) * 100\n",
    "        return round(attendance_percentage,3)\n",
    "    \n",
    "\n",
    "student1 = Student(\"krish naik\", 15, \"10th grade\", \"S123\")\n",
    "\n",
    "student1.update_attendance(\"2023-08-01\", \"present\")\n",
    "student1.update_attendance(\"2023-08-02\", \"absent\")\n",
    "student1.update_attendance(\"2023-08-03\", \"present\")\n",
    "\n",
    "attendance_record = student1.get_attendance()\n",
    "print(\"Attendance Record:\", attendance_record)\n",
    "average_attendance = student1.get_average_attendance()\n",
    "print(\"Average Attendance Percentage:\", average_attendance,\"%\")"
   ]
  }
 ],
 "metadata": {
  "kernelspec": {
   "display_name": "Python 3 (ipykernel)",
   "language": "python",
   "name": "python3"
  },
  "language_info": {
   "codemirror_mode": {
    "name": "ipython",
    "version": 3
   },
   "file_extension": ".py",
   "mimetype": "text/x-python",
   "name": "python",
   "nbconvert_exporter": "python",
   "pygments_lexer": "ipython3",
   "version": "3.11.1"
  }
 },
 "nbformat": 4,
 "nbformat_minor": 5
}
