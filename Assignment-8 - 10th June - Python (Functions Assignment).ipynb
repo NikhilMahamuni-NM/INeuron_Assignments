{
 "cells": [
  {
   "cell_type": "markdown",
   "id": "d732c7f2",
   "metadata": {},
   "source": [
    "# Assignment-8 - 10th June - Python (Functions Assignment) - 1"
   ]
  },
  {
   "cell_type": "markdown",
   "id": "fec4db9a",
   "metadata": {},
   "source": [
    "## 1. In Python, what is the difference between a built-in function and a user-defined function? Provide an example of each."
   ]
  },
  {
   "cell_type": "markdown",
   "id": "f7b7a2d1",
   "metadata": {},
   "source": [
    "Built-in functions in Python are predefined functions that are always available for use. These include functions like print(), len(), type(), etc.\n",
    "* For example, print(\"Hello, World!\") will print the string \"Hello, World!\" to the console.\n",
    "\n",
    "* User-defined functions, on the other hand, are functions that are defined by the users themselves using the def keyword."
   ]
  },
  {
   "cell_type": "code",
   "execution_count": 5,
   "id": "4160d893",
   "metadata": {},
   "outputs": [
    {
     "name": "stdout",
     "output_type": "stream",
     "text": [
      "Hello, INeuron!\n"
     ]
    }
   ],
   "source": [
    "def greet(name):\n",
    "       print(f\"Hello, {name}!\")\n",
    "greet(\"INeuron\")"
   ]
  },
  {
   "cell_type": "markdown",
   "id": "1a59800d",
   "metadata": {},
   "source": [
    "## 2. How can you pass arguments to a function in Python? Explain the difference between positional arguments and keyword arguments."
   ]
  },
  {
   "cell_type": "markdown",
   "id": "3e3c6449",
   "metadata": {},
   "source": [
    "Arguments can be passed to a function in Python in the following ways:\n",
    "\n",
    "* Positional arguments: These are arguments that need to be passed in the same order as they are defined in the function."
   ]
  },
  {
   "cell_type": "code",
   "execution_count": 6,
   "id": "091ceb6b",
   "metadata": {},
   "outputs": [
    {
     "name": "stdout",
     "output_type": "stream",
     "text": [
      "Hello, Hello INeueron!\n"
     ]
    }
   ],
   "source": [
    " def greet(first_name, last_name):\n",
    "     print(f\"Hello, {first_name} {last_name}!\")\n",
    "greet(\"Hello\", \"INeueron\")"
   ]
  },
  {
   "cell_type": "markdown",
   "id": "6f8c4ecb",
   "metadata": {},
   "source": [
    "* Keyword arguments: These are arguments that are identified by the parameter name. This allows you to skip arguments or place them out of order."
   ]
  },
  {
   "cell_type": "code",
   "execution_count": 7,
   "id": "97ce6f25",
   "metadata": {},
   "outputs": [
    {
     "name": "stdout",
     "output_type": "stream",
     "text": [
      "Hello, INeueron Hello!\n"
     ]
    }
   ],
   "source": [
    " def greet(first_name, last_name):\n",
    "     print(f\"Hello, {first_name} {last_name}!\")\n",
    " greet(last_name=\"Hello\", first_name=\"INeueron\")"
   ]
  },
  {
   "cell_type": "markdown",
   "id": "239b61ce",
   "metadata": {},
   "source": [
    "## 3. What is the purpose of the return statement in a function? Can a function have multiple return statements? Explain with an example."
   ]
  },
  {
   "cell_type": "markdown",
   "id": "72ab66f4",
   "metadata": {},
   "source": [
    "The return statement is used to exit a function and go back to the place where it was called. A function can have multiple return statements. If the Python interpreter encounters a return statement, it will exit the function immediately and ignore any code that comes after it."
   ]
  },
  {
   "cell_type": "code",
   "execution_count": 8,
   "id": "8d1791e1",
   "metadata": {},
   "outputs": [
    {
     "name": "stdout",
     "output_type": "stream",
     "text": [
      "4\n"
     ]
    }
   ],
   "source": [
    "def max(a, b):\n",
    "   if a > b:\n",
    "       return a\n",
    "   else:\n",
    "       return b\n",
    "print(max(3, 4))"
   ]
  },
  {
   "cell_type": "markdown",
   "id": "b827c695",
   "metadata": {},
   "source": [
    "## 4. What are lambda functions in Python? How are they different from regular functions? Provide an example where a lambda function can be useful."
   ]
  },
  {
   "cell_type": "markdown",
   "id": "ca75182f",
   "metadata": {},
   "source": [
    "Lambda functions in Python are small anonymous functions that are defined using the lambda keyword. They are different from regular functions in that they can have any number of arguments but only one expression. For example, a lambda function that adds two numbers could look like:\n",
    "* add = lambda a, b: a + b."
   ]
  },
  {
   "cell_type": "markdown",
   "id": "2d25507d",
   "metadata": {},
   "source": [
    "## 5. How does the concept of \"scope\" apply to functions in Python? Explain the difference between local scope and global scope."
   ]
  },
  {
   "cell_type": "markdown",
   "id": "745327ed",
   "metadata": {},
   "source": [
    "The concept of \"scope\" in Python refers to the region of the code where a variable is accessible. Variables defined inside a function have a local scope and are not accessible outside of that function. Variables defined outside of all functions have a global scope and are accessible throughout the entire code."
   ]
  },
  {
   "cell_type": "code",
   "execution_count": 9,
   "id": "cfbf72d1",
   "metadata": {},
   "outputs": [
    {
     "name": "stdout",
     "output_type": "stream",
     "text": [
      "100 69\n",
      "100\n"
     ]
    },
    {
     "ename": "NameError",
     "evalue": "name 'y' is not defined",
     "output_type": "error",
     "traceback": [
      "\u001b[1;31m---------------------------------------------------------------------------\u001b[0m",
      "\u001b[1;31mNameError\u001b[0m                                 Traceback (most recent call last)",
      "Cell \u001b[1;32mIn[9], line 9\u001b[0m\n\u001b[0;32m      7\u001b[0m func()\n\u001b[0;32m      8\u001b[0m \u001b[38;5;28mprint\u001b[39m(x)\n\u001b[1;32m----> 9\u001b[0m \u001b[38;5;28mprint\u001b[39m(\u001b[43my\u001b[49m)\n",
      "\u001b[1;31mNameError\u001b[0m: name 'y' is not defined"
     ]
    }
   ],
   "source": [
    "x = 100\n",
    "\n",
    "def func():\n",
    "   y = 69\n",
    "   print(x, y)\n",
    "\n",
    "func()\n",
    "print(x)\n",
    "print(y)"
   ]
  },
  {
   "cell_type": "markdown",
   "id": "105993b0",
   "metadata": {},
   "source": [
    "## 6. How can you use the \"return\" statement in a Python function to return multiple values?"
   ]
  },
  {
   "cell_type": "markdown",
   "id": "5810c48d",
   "metadata": {},
   "source": [
    "You can use the return statement in a Python function to return multiple values by separating them with commas."
   ]
  },
  {
   "cell_type": "code",
   "execution_count": 10,
   "id": "2ee04424",
   "metadata": {},
   "outputs": [
    {
     "name": "stdout",
     "output_type": "stream",
     "text": [
      "1 2 3\n"
     ]
    }
   ],
   "source": [
    "def func():\n",
    "   return 1, 2, 3\n",
    "\n",
    "a, b, c = func()\n",
    "print(a, b, c)"
   ]
  },
  {
   "cell_type": "markdown",
   "id": "eff65a27",
   "metadata": {},
   "source": [
    "## 7. What is the difference between the \"pass by value\" and \"pass by reference\" concepts when it comes to function arguments in Python?"
   ]
  },
  {
   "cell_type": "markdown",
   "id": "2a8efb8d",
   "metadata": {},
   "source": [
    "Python's function arguments are passed by object reference. This means that if we pass a mutable object to a function and modify it inside the function, the changes will be reflected outside of the function as well. If we pass an immutable object to a function and try to modify it inside the function, a new object will be created and the original object will remain unchanged."
   ]
  },
  {
   "cell_type": "code",
   "execution_count": 11,
   "id": "07c42f1f",
   "metadata": {},
   "outputs": [
    {
     "name": "stdout",
     "output_type": "stream",
     "text": [
      "[1, 2, 3, 4]\n",
      "10\n"
     ]
    }
   ],
   "source": [
    "def func(lst):\n",
    "   lst.append(4)\n",
    "\n",
    "a = [1, 2, 3]\n",
    "func(a)\n",
    "print(a)\n",
    "\n",
    "def func(x):\n",
    "   x = 5\n",
    "\n",
    "b = 10\n",
    "func(b)\n",
    "print(b)\n"
   ]
  },
  {
   "cell_type": "markdown",
   "id": "17851120",
   "metadata": {},
   "source": [
    "# 8. Create a function that can intake integer or decimal value and do following operations:\n",
    "* a. Logarithmic function (log x)\n",
    "* b. Exponential function (exp(x))\n",
    "* c. Power function with base 2 (2\n",
    "x\n",
    ")\n",
    "\n",
    "* d. Square root"
   ]
  },
  {
   "cell_type": "code",
   "execution_count": 12,
   "id": "166cd9ec",
   "metadata": {},
   "outputs": [
    {
     "name": "stdout",
     "output_type": "stream",
     "text": [
      "(0.6931471805599453, 7.38905609893065, 4, 1.4142135623730951)\n"
     ]
    }
   ],
   "source": [
    "import math\n",
    "\n",
    "def func(x):\n",
    "   return math.log(x), math.exp(x), 2 ** x, math.sqrt(x)\n",
    "\n",
    "print(func(2))"
   ]
  },
  {
   "cell_type": "markdown",
   "id": "5dda14e7",
   "metadata": {},
   "source": [
    "## 9. Create a function that takes a full name as an argument and returns first name and last name."
   ]
  },
  {
   "cell_type": "code",
   "execution_count": 13,
   "id": "65995026",
   "metadata": {},
   "outputs": [
    {
     "name": "stdout",
     "output_type": "stream",
     "text": [
      "('Sufal', 'Banerjee')\n"
     ]
    }
   ],
   "source": [
    "def split_name(full_name):\n",
    "   first_name, last_name = full_name.split()\n",
    "   return first_name, last_name\n",
    "\n",
    "print(split_name(\"Sufal Banerjee\"))"
   ]
  }
 ],
 "metadata": {
  "kernelspec": {
   "display_name": "Python 3 (ipykernel)",
   "language": "python",
   "name": "python3"
  },
  "language_info": {
   "codemirror_mode": {
    "name": "ipython",
    "version": 3
   },
   "file_extension": ".py",
   "mimetype": "text/x-python",
   "name": "python",
   "nbconvert_exporter": "python",
   "pygments_lexer": "ipython3",
   "version": "3.11.1"
  }
 },
 "nbformat": 4,
 "nbformat_minor": 5
}
