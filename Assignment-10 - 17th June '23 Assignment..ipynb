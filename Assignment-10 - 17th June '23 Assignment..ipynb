{
 "cells": [
  {
   "cell_type": "markdown",
   "id": "356a076a",
   "metadata": {},
   "source": [
    "# Assignment-10 - 17th June '23 Assignment."
   ]
  },
  {
   "cell_type": "markdown",
   "id": "5cedb6db",
   "metadata": {},
   "source": [
    "## 1. What is the role of try and exception block?"
   ]
  },
  {
   "cell_type": "markdown",
   "id": "12d90707",
   "metadata": {},
   "source": [
    "The role of a try and except block in python is to handle exceptions. The code inside the try block is executed, and if an exception occurs, it is caught and handled by the except block. This allows the program to gracefully handle errors and prevent the program from crashing."
   ]
  },
  {
   "cell_type": "markdown",
   "id": "7f9318fe",
   "metadata": {},
   "source": [
    "## 2. What is the syntax for a basic try-except block?"
   ]
  },
  {
   "cell_type": "markdown",
   "id": "767ebdf3",
   "metadata": {},
   "source": [
    "try:\n",
    "    # Code that may raise an exception\n",
    "except ExceptionType:\n",
    "    # Code to handle that exception"
   ]
  },
  {
   "cell_type": "markdown",
   "id": "9cb3df9b",
   "metadata": {},
   "source": [
    "## 3. What happens if an exception occurs inside a try block and there is no matching except block?"
   ]
  },
  {
   "cell_type": "markdown",
   "id": "20dbfd63",
   "metadata": {},
   "source": [
    "If an exception occurs inside a try block and there is no matching except block, the exception will propagate up the call stack until it is caught by an outer try-except block or until it reaches the top-level of the program.\n",
    "\n",
    "If the exception is not caught, the program will terminate and display an error message."
   ]
  },
  {
   "cell_type": "markdown",
   "id": "d543d78d",
   "metadata": {},
   "source": [
    "## 4. What is the difference between using a bare except block and specifying a specific exception type?"
   ]
  },
  {
   "cell_type": "markdown",
   "id": "40cd8bfd",
   "metadata": {},
   "source": [
    "The difference between using a bare except block and specifying a specific exception type is that a bare except block will catch and handle any type of exception, whereas specifying a specific exception type will only catch and handle exceptions of that particular type. It is generally recommended to specify the specific exception types you want to handle, as catching all exceptions can make it harder to debug and maintain the code."
   ]
  },
  {
   "cell_type": "markdown",
   "id": "469f8217",
   "metadata": {},
   "source": [
    "## 5. Can you have nested try-except blocks in Python? If yes, then give an example."
   ]
  },
  {
   "cell_type": "markdown",
   "id": "e19962ad",
   "metadata": {},
   "source": [
    "Yes, nested try-except blocks are allowed in Python."
   ]
  },
  {
   "cell_type": "markdown",
   "id": "214bfbcc",
   "metadata": {},
   "source": [
    "try:\n",
    "    # Outer try block\n",
    "    try:\n",
    "        # Inner try block\n",
    "\n",
    "    except ExceptionType2:\n",
    "        # Handle exception of type ExceptionType2\n",
    "\n",
    "except ExceptionType1:\n",
    "    # Handle exception of type ExceptionType1"
   ]
  },
  {
   "cell_type": "markdown",
   "id": "f6d7fbd4",
   "metadata": {},
   "source": [
    "## 6. Can we use multiple exception blocks, if yes then give an example."
   ]
  },
  {
   "cell_type": "markdown",
   "id": "e724da04",
   "metadata": {},
   "source": [
    "Yes, you can have multiple except blocks in a try-except block. Each except block can handle a different type of exception."
   ]
  },
  {
   "cell_type": "markdown",
   "id": "4ed3eec6",
   "metadata": {},
   "source": [
    "try:\n",
    "    # Code that is likely to raise an exception\n",
    "except ExceptionType1:\n",
    "    # Handle exception of type ExceptionType1\n",
    "except ExceptionType2:\n",
    "    # Handle exception of type ExceptionType2\n"
   ]
  },
  {
   "cell_type": "markdown",
   "id": "9857aa19",
   "metadata": {},
   "source": [
    "## 7. Write the reason due to which following errors are raised:\n",
    "* a. EOFError\n",
    "* b. FloatingPointError\n",
    "* c. IndexError\n",
    "* d. MemoryError\n",
    "* e. OverflowError\n",
    "* f. TabError\n",
    "* g. ValueError"
   ]
  },
  {
   "cell_type": "markdown",
   "id": "9f643a35",
   "metadata": {},
   "source": [
    "* EOFError: This error is raised when the input() function reaches the end of the file or encounters an unexpected end of input.\n",
    "*  FloatingPointError: This error is raised when a floating-point operation fails to produce a valid result, such as division by zero or an overflow/underflow condition.\n",
    "*  IndexError: This error is raised when trying to access an index that is out of range in a sequence (e.g., list, tuple, string).\n",
    "*  MemoryError: This error is raised when the program runs out of memory to allocate for new objects.\n",
    "*  OverflowError: This error is raised when a calculation exceeds the maximum limit of a numeric type.\n",
    "*  TabError: This error is raised when there is an incorrect indentation or mixing of tabs and spaces in the code.\n",
    "*  ValueError: This error is raised when a function receives an argument of the correct type but an invalid value"
   ]
  },
  {
   "cell_type": "markdown",
   "id": "ddcad95c",
   "metadata": {},
   "source": [
    "## 8. Write code for the following given scenario and add try-exception block to it.\n",
    "* a. Program to divide two numbers\n",
    "* b. Program to convert a string to an integer\n",
    "* c. Program to access an element in a list\n",
    "* d. Program to handle a specific exception\n",
    "* e. Program to handle any exception"
   ]
  },
  {
   "cell_type": "code",
   "execution_count": null,
   "id": "de82937f",
   "metadata": {},
   "outputs": [],
   "source": [
    "# Program to divide two numbers\n",
    "try:\n",
    "    num1 = int(input(\"Enter the first number: \"))\n",
    "    num2 = int(input(\"Enter the second number: \"))\n",
    "    result = num1 / num2\n",
    "    print(\"Result:\", result)\n",
    "except ZeroDivisionError:\n",
    "    print(\"Error: Cannot divide by zero.\")"
   ]
  },
  {
   "cell_type": "code",
   "execution_count": null,
   "id": "99f67815",
   "metadata": {},
   "outputs": [],
   "source": [
    "# Program to convert a string to an integer\n",
    "try:\n",
    "    num_str = input(\"Enter a number: \")\n",
    "    num = int(num_str)\n",
    "    print(\"Number:\", num)\n",
    "except ValueError:\n",
    "    print(\"Error: Invalid input. Please enter a valid integer.\")"
   ]
  },
  {
   "cell_type": "code",
   "execution_count": null,
   "id": "4ee0c0c9",
   "metadata": {},
   "outputs": [],
   "source": [
    "# Program to access an element in a list\n",
    "try:\n",
    "    my_list = [1, 2, 3]\n",
    "    index = int(input(\"Enter an index: \"))\n",
    "    element = my_list[index]\n",
    "    print(\"Element:\", element)\n",
    "except IndexError:\n",
    "    print(\"Error: Index out of range.\")\n"
   ]
  },
  {
   "cell_type": "code",
   "execution_count": null,
   "id": "5b44d8d0",
   "metadata": {},
   "outputs": [],
   "source": [
    "# Program to handle a specific exception\n",
    "try:\n",
    "    # Code that may raise a specific exception\n",
    "\n",
    "except SpecificExceptionType:\n",
    "    # Handle the specific exception"
   ]
  },
  {
   "cell_type": "code",
   "execution_count": null,
   "id": "0326ce46",
   "metadata": {},
   "outputs": [],
   "source": [
    "# Program to handle any exception\n",
    "try:\n",
    "    # Code that may raise an exception\n",
    "\n",
    "except Exception:\n",
    "    # Handle any exception"
   ]
  }
 ],
 "metadata": {
  "kernelspec": {
   "display_name": "Python 3 (ipykernel)",
   "language": "python",
   "name": "python3"
  },
  "language_info": {
   "codemirror_mode": {
    "name": "ipython",
    "version": 3
   },
   "file_extension": ".py",
   "mimetype": "text/x-python",
   "name": "python",
   "nbconvert_exporter": "python",
   "pygments_lexer": "ipython3",
   "version": "3.11.1"
  }
 },
 "nbformat": 4,
 "nbformat_minor": 5
}
