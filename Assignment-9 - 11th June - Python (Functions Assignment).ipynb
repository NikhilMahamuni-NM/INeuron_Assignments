{
 "cells": [
  {
   "cell_type": "markdown",
   "id": "0a2d76e0",
   "metadata": {},
   "source": [
    "# Assignment-9 - 11th June - Python (Functions Assignment)"
   ]
  },
  {
   "cell_type": "markdown",
   "id": "f2fdcfdd",
   "metadata": {},
   "source": [
    "## 1. What is a lambda function in Python, and how does it differ from a regular function?"
   ]
  },
  {
   "cell_type": "markdown",
   "id": "684826f0",
   "metadata": {},
   "source": [
    "A lambda function is a small anonymous function that is defined using the lambda keyword, unlike regular functions which are defined using the def keyword. Lambda functions can have any number of arguments but can only have one expression.\n",
    "* Example, a lambda function that adds two numbers could look like this: add = lambda a, b: a + b."
   ]
  },
  {
   "cell_type": "markdown",
   "id": "8f61c372",
   "metadata": {},
   "source": [
    "## 2. Can a lambda function in Python have multiple arguments? If yes, how can you define and use them?"
   ]
  },
  {
   "cell_type": "markdown",
   "id": "b66116e0",
   "metadata": {},
   "source": [
    "Yes, a lambda function can have multiple arguments.\n",
    "\n",
    "* multiply = lambda a, b, c: a * b * c."
   ]
  },
  {
   "cell_type": "markdown",
   "id": "847bbefd",
   "metadata": {},
   "source": [
    "## 3. How are lambda functions typically used in Python? Provide an example use case."
   ]
  },
  {
   "cell_type": "markdown",
   "id": "a7100837",
   "metadata": {},
   "source": [
    "They are commonly used for short, throwaway functions where creating a full function using def keyword would be unnecessary. The are one time use functions."
   ]
  },
  {
   "cell_type": "code",
   "execution_count": 1,
   "id": "3da8756b",
   "metadata": {},
   "outputs": [
    {
     "name": "stdout",
     "output_type": "stream",
     "text": [
      "240\n"
     ]
    }
   ],
   "source": [
    "multiply = lambda a, b, c: a * b * c\n",
    "print(multiply(2, 3, 40))"
   ]
  },
  {
   "cell_type": "markdown",
   "id": "81ddf50a",
   "metadata": {},
   "source": [
    "## 4. What are the advantages and limitations of lambda functions compared to regular functions in Python?"
   ]
  },
  {
   "cell_type": "markdown",
   "id": "92377dcb",
   "metadata": {},
   "source": [
    "Advantages of lambda functions:\n",
    "\n",
    "* Lambda functions allow you to write functions in a more readable manner.\n",
    "* Lambda functions don't require a name, making them good for one-time use.\n",
    "* Lambda functions can be easily be passed as arguments to other functions.\n",
    "\n",
    "Limitations of lambda functions:\n",
    "\n",
    "* Lambda functions are restricted to a single expression and cannot contain statements or multiple lines of code.\n",
    "* Since lambda functions are anonymous, they don't have docstrings, making them less self-explanatory."
   ]
  },
  {
   "cell_type": "markdown",
   "id": "479520b7",
   "metadata": {},
   "source": [
    "## 5. Are lambda functions in Python able to access variables defined outside of their own scope? Explain with an example."
   ]
  },
  {
   "cell_type": "markdown",
   "id": "97265f9f",
   "metadata": {},
   "source": [
    "Yes, lambda functions in Python can access variables defined outside of their own scope. It's known as variable capture."
   ]
  },
  {
   "cell_type": "code",
   "execution_count": 2,
   "id": "6cc9e1bb",
   "metadata": {},
   "outputs": [
    {
     "name": "stdout",
     "output_type": "stream",
     "text": [
      "21\n"
     ]
    }
   ],
   "source": [
    "def add_num():\n",
    "  x = 14\n",
    "  return lambda y: x + y\n",
    "\n",
    "lambda_fun = add_num()\n",
    "print(lambda_fun(7))\n"
   ]
  },
  {
   "cell_type": "markdown",
   "id": "53292527",
   "metadata": {},
   "source": [
    "## 6. Write a lambda function to calculate the square of a given number."
   ]
  },
  {
   "cell_type": "code",
   "execution_count": 3,
   "id": "b7b1d784",
   "metadata": {},
   "outputs": [
    {
     "name": "stdout",
     "output_type": "stream",
     "text": [
      "49\n"
     ]
    }
   ],
   "source": [
    "square = lambda x: x**2\n",
    "\n",
    "\n",
    "number = 7\n",
    "result = square(number)\n",
    "print(result)\n"
   ]
  },
  {
   "cell_type": "markdown",
   "id": "12d26fc8",
   "metadata": {},
   "source": [
    "## 7. Create a lambda function to find the maximum value in a list of integers."
   ]
  },
  {
   "cell_type": "code",
   "execution_count": 4,
   "id": "5376202a",
   "metadata": {},
   "outputs": [
    {
     "name": "stdout",
     "output_type": "stream",
     "text": [
      "485365\n"
     ]
    }
   ],
   "source": [
    "lst_int = [6541, 8, 485365, 14654, 654, 54, 84, 865, 465, 489, 654, 6854, 84, 514, 8]\n",
    "max_value = lambda lst: max(lst_int)\n",
    "result = max_value(lst_int)\n",
    "print(result)  # Output will be 485365"
   ]
  },
  {
   "cell_type": "markdown",
   "id": "cee01543",
   "metadata": {},
   "source": [
    "## 8. Implement a lambda function to filter out all the even numbers from a list of integers."
   ]
  },
  {
   "cell_type": "code",
   "execution_count": 5,
   "id": "1f74915c",
   "metadata": {},
   "outputs": [
    {
     "name": "stdout",
     "output_type": "stream",
     "text": [
      "[8, 14654, 654, 54, 84, 654, 6854, 84, 514, 8]\n"
     ]
    }
   ],
   "source": [
    "lst_int = [6541, 8, 485365, 14654, 654, 54, 84, 865, 465, 489, 654, 6854, 84, 514, 8]\n",
    "\n",
    "even_numbers = lambda lst: list(filter(lambda x: x % 2 == 0, lst_int))\n",
    "\n",
    "result = even_numbers(lst_int)\n",
    "print(result)"
   ]
  },
  {
   "cell_type": "markdown",
   "id": "1e40d697",
   "metadata": {},
   "source": [
    "## 9. Write a lambda function to sort a list of strings in ascending order based on the length of each string."
   ]
  },
  {
   "cell_type": "code",
   "execution_count": 6,
   "id": "b13a8640",
   "metadata": {},
   "outputs": [
    {
     "name": "stdout",
     "output_type": "stream",
     "text": [
      "['Car', 'Sun', 'Fish', 'Lion', 'Vase', 'Nest', 'Whale', 'Queen', 'Tiger', 'X-ray', 'Zebra', 'House', 'Panda', 'Apple', 'Banana', 'Rabbit', 'Monkey', 'Orange', 'Yellow', 'Giraffe', 'Elephant', 'Umbrella', 'Kangaroo', 'Jellyfish', 'Ice Cream']\n"
     ]
    }
   ],
   "source": [
    "str_list = [\"Whale\", \"Fish\", \"Queen\", \"Tiger\", \"Elephant\", \"Banana\", \"X-ray\", \"Rabbit\", \"Monkey\", \"Car\", \"Jellyfish\", \"Zebra\", \"Orange\", \"Umbrella\", \"House\", \"Giraffe\", \"Lion\", \"Vase\", \"Panda\", \"Kangaroo\", \"Apple\", \"Nest\", \"Ice Cream\", \"Yellow\", \"Sun\"]\n",
    "\n",
    "sort_str_by_length = lambda lst: sorted(lst, key=lambda x: len(x))\n",
    "\n",
    "result = sort_str_by_length(str_list)\n",
    "print(result)\n",
    "\n",
    "#Ice Cream has a space, hence it is considered the longest string."
   ]
  },
  {
   "cell_type": "markdown",
   "id": "9881b11e",
   "metadata": {},
   "source": [
    "## 10. Create a lambda function that takes two lists as input and returns a new list containing the common elements between the two lists."
   ]
  },
  {
   "cell_type": "code",
   "execution_count": 7,
   "id": "3a72eea5",
   "metadata": {},
   "outputs": [
    {
     "name": "stdout",
     "output_type": "stream",
     "text": [
      "[4, 25, 6]\n"
     ]
    }
   ],
   "source": [
    "list1 = [1, 2, 3, 4, 25, 6]\n",
    "list2 = [4, 25, 6, 7, 8]\n",
    "\n",
    "common_elements = lambda lst1, lst2: list(filter(lambda x: x in lst1, lst2))\n",
    "\n",
    "common_elements = common_elements(list1, list2)\n",
    "print(common_elements)"
   ]
  },
  {
   "cell_type": "markdown",
   "id": "e4c8d959",
   "metadata": {},
   "source": [
    "# 11. Write a recursive function to calculate the factorial of a given positive integer."
   ]
  },
  {
   "cell_type": "code",
   "execution_count": 8,
   "id": "0ef98e98",
   "metadata": {},
   "outputs": [
    {
     "data": {
      "text/plain": [
       "5040"
      ]
     },
     "execution_count": 8,
     "metadata": {},
     "output_type": "execute_result"
    }
   ],
   "source": [
    "def factorial_number(num):\n",
    "    if (num == 0 or num == 1):\n",
    "        return 1\n",
    "    else:\n",
    "        return num * factorial_number(num-1)\n",
    "\n",
    "factorial_number(7)"
   ]
  },
  {
   "cell_type": "markdown",
   "id": "8008b22b",
   "metadata": {},
   "source": [
    "## 12. Implement a recursive function to compute the nth Fibonacci number.\n",
    "\n",
    "* Fibonacci sequence up to 10 terms: [0, 1, 1, 2, 3, 5, 8, 13, 21, 34]"
   ]
  },
  {
   "cell_type": "code",
   "execution_count": 9,
   "id": "2de03cd3",
   "metadata": {},
   "outputs": [
    {
     "name": "stdout",
     "output_type": "stream",
     "text": [
      "Enter the position to find the number in the sequence: 9\n",
      "Fibonacci number at position 9 in the Fibonacci sequence is: 21\n"
     ]
    }
   ],
   "source": [
    "def fibonacci_sequence(n):\n",
    "    if n <=0:\n",
    "        return None\n",
    "    if n == 1:\n",
    "        return 0\n",
    "    if n == 2:\n",
    "        return 1\n",
    "\n",
    "    return fibonacci_sequence(n-1) + fibonacci_sequence(n-2)\n",
    "\n",
    "user_inp = int(input(\"Enter the position to find the number in the sequence: \"))\n",
    "result = fibonacci_sequence(user_inp)\n",
    "print(f\"Fibonacci number at position {user_inp} in the Fibonacci sequence is: {result}\")"
   ]
  },
  {
   "cell_type": "markdown",
   "id": "f21c32ef",
   "metadata": {},
   "source": [
    "## 13. Create a recursive function to find the sum of all the elements in a given list."
   ]
  },
  {
   "cell_type": "code",
   "execution_count": 10,
   "id": "e45c25bf",
   "metadata": {},
   "outputs": [
    {
     "name": "stdout",
     "output_type": "stream",
     "text": [
      "Sum of elements: 21\n"
     ]
    }
   ],
   "source": [
    "def sum(lst):\n",
    "    if not lst:\n",
    "        return 0\n",
    "    else:\n",
    "        return lst[0] + sum(lst[1:])\n",
    "\n",
    "my_list = [1, 2, 3, 4, 5, 6]\n",
    "result = sum(my_list)\n",
    "print(\"Sum of elements:\", result)"
   ]
  },
  {
   "cell_type": "markdown",
   "id": "5ac584f1",
   "metadata": {},
   "source": [
    "## 14. Write a recursive function to determine whether a given string is a palindrome."
   ]
  },
  {
   "cell_type": "code",
   "execution_count": 11,
   "id": "786724ca",
   "metadata": {},
   "outputs": [],
   "source": [
    "def is_palindrome(string):\n",
    "    if len(string) <= 1:\n",
    "        return True\n",
    "    elif string[0] != string[-1]:\n",
    "        return False\n",
    "    else:\n",
    "        return is_palindrome(string[1:-1])\n"
   ]
  },
  {
   "cell_type": "code",
   "execution_count": 12,
   "id": "74f66388",
   "metadata": {},
   "outputs": [
    {
     "data": {
      "text/plain": [
       "True"
      ]
     },
     "execution_count": 12,
     "metadata": {},
     "output_type": "execute_result"
    }
   ],
   "source": [
    "is_palindrome(\"abcdedcba\")"
   ]
  },
  {
   "cell_type": "code",
   "execution_count": 13,
   "id": "d17fc2e0",
   "metadata": {},
   "outputs": [
    {
     "data": {
      "text/plain": [
       "True"
      ]
     },
     "execution_count": 13,
     "metadata": {},
     "output_type": "execute_result"
    }
   ],
   "source": [
    "is_palindrome('45654')"
   ]
  },
  {
   "cell_type": "code",
   "execution_count": 14,
   "id": "f235f1a0",
   "metadata": {},
   "outputs": [
    {
     "data": {
      "text/plain": [
       "False"
      ]
     },
     "execution_count": 14,
     "metadata": {},
     "output_type": "execute_result"
    }
   ],
   "source": [
    "is_palindrome(\"tiger\")"
   ]
  },
  {
   "cell_type": "markdown",
   "id": "080181df",
   "metadata": {},
   "source": [
    "## 15. Implement a recursive function to find the greatest common divisor (GCD) of two positive integers."
   ]
  },
  {
   "cell_type": "code",
   "execution_count": 15,
   "id": "41c580ce",
   "metadata": {},
   "outputs": [],
   "source": [
    "def gcd(a, b):\n",
    "    if b == 0:\n",
    "        return a\n",
    "    else:\n",
    "        return gcd(b, a % b)\n"
   ]
  },
  {
   "cell_type": "code",
   "execution_count": 16,
   "id": "61558d59",
   "metadata": {},
   "outputs": [
    {
     "data": {
      "text/plain": [
       "6"
      ]
     },
     "execution_count": 16,
     "metadata": {},
     "output_type": "execute_result"
    }
   ],
   "source": [
    "gcd(48,18)"
   ]
  },
  {
   "cell_type": "code",
   "execution_count": 17,
   "id": "d57cf917",
   "metadata": {},
   "outputs": [
    {
     "data": {
      "text/plain": [
       "25"
      ]
     },
     "execution_count": 17,
     "metadata": {},
     "output_type": "execute_result"
    }
   ],
   "source": [
    "gcd(100,25)"
   ]
  }
 ],
 "metadata": {
  "kernelspec": {
   "display_name": "Python 3 (ipykernel)",
   "language": "python",
   "name": "python3"
  },
  "language_info": {
   "codemirror_mode": {
    "name": "ipython",
    "version": 3
   },
   "file_extension": ".py",
   "mimetype": "text/x-python",
   "name": "python",
   "nbconvert_exporter": "python",
   "pygments_lexer": "ipython3",
   "version": "3.11.1"
  }
 },
 "nbformat": 4,
 "nbformat_minor": 5
}
