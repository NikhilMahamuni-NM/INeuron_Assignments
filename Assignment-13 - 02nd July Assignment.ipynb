{
 "cells": [
  {
   "cell_type": "markdown",
   "id": "2f158152",
   "metadata": {},
   "source": [
    "# Assignment-13 - 02nd July Assignment"
   ]
  },
  {
   "cell_type": "markdown",
   "id": "1250110b",
   "metadata": {},
   "source": [
    "## 1. Explain what inheritance is in object-oriented programming and why it is used."
   ]
  },
  {
   "cell_type": "markdown",
   "id": "23a5d9c5",
   "metadata": {},
   "source": [
    "Inheritance is a fundamental concept in object-oriented programming (OOP) that allows a class to inherit properties and behaviors from another class. It enables code reuse and promotes the creation of hierarchical relationships between classes. The class that is being inherited from is called the base class or superclass, while the class that inherits from it is called the derived class or subclass. Inheritance is used to model real-world relationships, such as a \"Car\" class inheriting from a \"Vehicle\" class, where the Car class inherits the attributes and methods of the Vehicle class."
   ]
  },
  {
   "cell_type": "markdown",
   "id": "9b988e58",
   "metadata": {},
   "source": [
    "## 2. Discuss the concept of single inheritance and multiple inheritance, highlighting their differences and advantages."
   ]
  },
  {
   "cell_type": "markdown",
   "id": "d75bc0c7",
   "metadata": {},
   "source": [
    "Single inheritance and multiple inheritance are two types of inheritance in OOP. Single inheritance allows a class to inherit from only one base class, while multiple inheritance allows a class to inherit from multiple base classes. The main difference between them is that single inheritance provides a simpler and more straightforward class hierarchy, while multiple inheritance allows for greater flexibility and code reuse by inheriting from multiple sources."
   ]
  },
  {
   "cell_type": "markdown",
   "id": "a3a9ae18",
   "metadata": {},
   "source": [
    "## 3. Explain the terms \"base class\" and \"derived class\" in the context of inheritance."
   ]
  },
  {
   "cell_type": "markdown",
   "id": "a2a7635f",
   "metadata": {},
   "source": [
    "In the context of inheritance, the base class refers to the class that is being inherited from. It is also known as the superclass or parent class. The derived class, on the other hand, refers to the class that inherits from the base class. It is also known as the subclass or child class. The derived class inherits the attributes and methods of the base class and can also add its own unique attributes and methods."
   ]
  },
  {
   "cell_type": "markdown",
   "id": "1d10ae62",
   "metadata": {},
   "source": [
    "## 4. What is the significance of the \"protected\" access modifier in inheritance? How does it differ from \"private\" and \"public\" modifiers?"
   ]
  },
  {
   "cell_type": "markdown",
   "id": "bb5e9489",
   "metadata": {},
   "source": [
    "The protected access modifier in inheritance has significance in terms of visibility and accessibility. When a member (attribute or method) is declared as protected in the base class, it can be accessed by the derived class but not by other classes outside the inheritance hierarchy. This allows the derived class to directly access and modify the protected members of the base class, promoting code reuse and encapsulation. Also, \"private\" members are only accessible within the class itself, while \"public\" members are accessible by any class"
   ]
  },
  {
   "cell_type": "markdown",
   "id": "521bd6f3",
   "metadata": {},
   "source": [
    "## 5. What is the purpose of the \"super\" keyword in inheritance? Provide an example."
   ]
  },
  {
   "cell_type": "markdown",
   "id": "fc204f14",
   "metadata": {},
   "source": [
    "The \"super\" keyword in inheritance is used to refer to the superclass or base class. It is primarily used to call the superclass's constructor or access its methods and attributes from the derived class."
   ]
  },
  {
   "cell_type": "code",
   "execution_count": 1,
   "id": "eab3407e",
   "metadata": {},
   "outputs": [
    {
     "name": "stdout",
     "output_type": "stream",
     "text": [
      "Toyota\n",
      "petrol\n"
     ]
    }
   ],
   "source": [
    "class Vehicle:\n",
    "    def __init__(self, make, model, year):\n",
    "        self.make = make\n",
    "        self.model = model\n",
    "        self.year = year\n",
    "\n",
    "class Car(Vehicle):\n",
    "    def __init__(self, make, model, year, fuel_type):\n",
    "        super().__init__(make, model, year)\n",
    "        self.fuel_type = fuel_type\n",
    "\n",
    "car = Car(\"Toyota\", \"Corolla Altis\", 2023, \"petrol\")\n",
    "print(car.make)\n",
    "print(car.fuel_type)"
   ]
  },
  {
   "cell_type": "markdown",
   "id": "99edaba0",
   "metadata": {},
   "source": [
    "## 6. Create a base class called \"Vehicle\" with attributes like \"make\", \"model\", and \"year\". Then, create a derived class called \"Car\" that inherits from \"Vehicle\" and adds an attribute called \"fuel_type\". Implement appropriate methods in both classes."
   ]
  },
  {
   "cell_type": "code",
   "execution_count": 2,
   "id": "01ff32e5",
   "metadata": {},
   "outputs": [
    {
     "name": "stdout",
     "output_type": "stream",
     "text": [
      "Toyota\n",
      "Toyota\n",
      "Petrol\n",
      "Engine started.\n"
     ]
    }
   ],
   "source": [
    "class Vehicle:\n",
    "    def __init__(self, make, model, year):\n",
    "        self.make = make\n",
    "        self.model = model\n",
    "        self.year = year\n",
    "\n",
    "class Car(Vehicle):\n",
    "    def __init__(self, make, model, year, fuel_type):\n",
    "        super().__init__(make, model, year)\n",
    "        self.fuel_type = fuel_type\n",
    "\n",
    "    def start_engine(self):\n",
    "        print(\"Engine started.\")\n",
    "\n",
    "vehicle = Vehicle(\"Toyota\", \"Corolla Altis\", 2023)\n",
    "print(vehicle.make)\n",
    "\n",
    "car = Car(\"Toyota\", \"Corolla Altis\", 2023, \"Petrol\")\n",
    "print(car.make)\n",
    "print(car.fuel_type)\n",
    "car.start_engine()"
   ]
  },
  {
   "cell_type": "markdown",
   "id": "44e66a34",
   "metadata": {},
   "source": [
    "## 7. Create a base class called \"Employee\" with attributes like \"name\" and \"salary.\" Derive two classes, \"Manager\" and \"Developer,\" from \"Employee.\" Add an additional attribute called \"department\" for the \"Manager\" class and \"programming_language\" for the \"Developer\" class."
   ]
  },
  {
   "cell_type": "code",
   "execution_count": 3,
   "id": "3db792e1",
   "metadata": {},
   "outputs": [
    {
     "name": "stdout",
     "output_type": "stream",
     "text": [
      "Sudhanshu Kumar\n",
      "Sales\n",
      "Krish Naik\n",
      "Python\n"
     ]
    }
   ],
   "source": [
    "class Employee:\n",
    "    def __init__(self, name, salary):\n",
    "        self.name = name\n",
    "        self.salary = salary\n",
    "\n",
    "class Manager(Employee):\n",
    "    def __init__(self, name, salary, department):\n",
    "        super().__init__(name, salary)\n",
    "        self.department = department\n",
    "\n",
    "class Developer(Employee):\n",
    "    def __init__(self, name, salary, programming_language):\n",
    "        super().__init__(name, salary)\n",
    "        self.programming_language = programming_language\n",
    "\n",
    "manager = Manager(\"Sudhanshu Kumar\", 5000, \"Sales\")\n",
    "print(manager.name)\n",
    "print(manager.department)\n",
    "\n",
    "developer = Developer(\"Krish Naik\", 400000, \"Python\")\n",
    "print(developer.name)\n",
    "print(developer.programming_language)"
   ]
  },
  {
   "cell_type": "markdown",
   "id": "67ce7759",
   "metadata": {},
   "source": [
    "## 8. Design a base class called \"Shape\" with attributes like \"colour\" and \"border_width.\" Create derived classes, \"Rectangle\" and \"Circle,\" that inherit from \"Shape\" and add specific attributes like \"length\" and \"width\" for the \"Rectangle\" class and \"radius\" for the \"Circle\" class."
   ]
  },
  {
   "cell_type": "code",
   "execution_count": 4,
   "id": "e75d60e4",
   "metadata": {},
   "outputs": [
    {
     "name": "stdout",
     "output_type": "stream",
     "text": [
      "Red\n",
      "10\n",
      "5\n",
      "Blue\n",
      "7\n"
     ]
    }
   ],
   "source": [
    "class Shape:\n",
    "    def __init__(self, colour, border_width):\n",
    "        self.colour = colour\n",
    "        self.border_width = border_width\n",
    "\n",
    "class Rectangle(Shape):\n",
    "    def __init__(self, colour, border_width, length, width):\n",
    "        super().__init__(colour, border_width)\n",
    "        self.length = length\n",
    "        self.width = width\n",
    "\n",
    "class Circle(Shape):\n",
    "    def __init__(self, colour, border_width, radius):\n",
    "        super().__init__(colour, border_width)\n",
    "        self.radius = radius\n",
    "\n",
    "rectangle = Rectangle(\"Red\", 2, 10, 5)\n",
    "print(rectangle.colour)\n",
    "print(rectangle.length)\n",
    "print(rectangle.width)\n",
    "\n",
    "circle = Circle(\"Blue\", 1, 7)\n",
    "print(circle.colour)\n",
    "print(circle.radius)"
   ]
  },
  {
   "cell_type": "markdown",
   "id": "2d8084f0",
   "metadata": {},
   "source": [
    "## 9. Create a base class called \"Device\" with attributes like \"brand\" and \"model.\" Derive two classes, \"Phone\" and \"Tablet,\" from \"Device.\" Add specific attributes like \"screen_size\" for the \"Phone\" class and \"battery_capacity\" for the \"Tablet\" class."
   ]
  },
  {
   "cell_type": "code",
   "execution_count": 5,
   "id": "c1ab478b",
   "metadata": {},
   "outputs": [
    {
     "name": "stdout",
     "output_type": "stream",
     "text": [
      "Apple\n",
      "6.1\n",
      "Samsung\n",
      "800000\n"
     ]
    }
   ],
   "source": [
    "class Device:\n",
    "    def __init__(self, brand, model):\n",
    "        self.brand = brand\n",
    "        self.model = model\n",
    "\n",
    "class Phone(Device):\n",
    "    def __init__(self, brand, model, screen_size):\n",
    "        super().__init__(brand, model)\n",
    "        self.screen_size = screen_size\n",
    "\n",
    "class Tablet(Device):\n",
    "    def __init__(self, brand, model, battery_capacity):\n",
    "        super().__init__(brand, model)\n",
    "        self.battery_capacity = battery_capacity\n",
    "\n",
    "phone = Phone(\"Apple\", \"iPhone 15\", 6.1)\n",
    "print(phone.brand)\n",
    "print(phone.screen_size)\n",
    "\n",
    "tablet = Tablet(\"Samsung\", \"Galaxy Tab S7 Ultra Pro Max Plus\", 800000)\n",
    "print(tablet.brand)\n",
    "print(tablet.battery_capacity)"
   ]
  },
  {
   "cell_type": "markdown",
   "id": "4fa69a4f",
   "metadata": {},
   "source": [
    "## 10. Create a base class called \"BankAccount\" with attributes like \"account_number\" and \"balance.\" Derive two classes, \"SavingsAccount\" and \"CheckingAccount,\" from \"BankAccount.\" Add specific methods like \"calculate_interest\" for the \"SavingsAccount\" class and \"deduct_fees\" for the \"CheckingAccount\" class."
   ]
  },
  {
   "cell_type": "code",
   "execution_count": 6,
   "id": "7e66accb",
   "metadata": {},
   "outputs": [
    {
     "name": "stdout",
     "output_type": "stream",
     "text": [
      "123456789\n",
      "1000\n",
      "50.0\n",
      "987654321\n",
      "500\n",
      "490\n"
     ]
    }
   ],
   "source": [
    "class BankAccount:\n",
    "    def __init__(self, account_number, balance):\n",
    "        self.account_number = account_number\n",
    "        self.balance = balance\n",
    "\n",
    "class SavingsAccount(BankAccount):\n",
    "    def __init__(self, account_number, balance):\n",
    "        super().__init__(account_number, balance)\n",
    "\n",
    "    def calculate_interest(self):\n",
    "        interest_rate = 0.05\n",
    "        interest = self.balance * interest_rate\n",
    "        return interest\n",
    "\n",
    "class CheckingAccount(BankAccount):\n",
    "    def __init__(self, account_number, balance):\n",
    "        super().__init__(account_number, balance)\n",
    "\n",
    "    def deduct_fees(self):\n",
    "        fee = 10\n",
    "        self.balance -= fee\n",
    "\n",
    "savings_account = SavingsAccount(\"123456789\", 1000)\n",
    "print(savings_account.account_number)\n",
    "print(savings_account.balance)\n",
    "print(savings_account.calculate_interest())\n",
    "\n",
    "checking_account = CheckingAccount(\"987654321\", 500)\n",
    "print(checking_account.account_number)\n",
    "print(checking_account.balance)\n",
    "checking_account.deduct_fees()\n",
    "print(checking_account.balance)"
   ]
  }
 ],
 "metadata": {
  "kernelspec": {
   "display_name": "Python 3 (ipykernel)",
   "language": "python",
   "name": "python3"
  },
  "language_info": {
   "codemirror_mode": {
    "name": "ipython",
    "version": 3
   },
   "file_extension": ".py",
   "mimetype": "text/x-python",
   "name": "python",
   "nbconvert_exporter": "python",
   "pygments_lexer": "ipython3",
   "version": "3.11.1"
  }
 },
 "nbformat": 4,
 "nbformat_minor": 5
}
