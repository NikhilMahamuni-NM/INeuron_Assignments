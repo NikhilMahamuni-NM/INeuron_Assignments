{
 "cells": [
  {
   "cell_type": "markdown",
   "id": "630653b1",
   "metadata": {},
   "source": [
    "## 1. What are keywords in python? Using the keyword library, print all the python keywords."
   ]
  },
  {
   "cell_type": "markdown",
   "id": "b4141ccc",
   "metadata": {},
   "source": [
    "Keywords in Python are reserved words that are used to define the syntax and structure of the Python language. They cannot be used as identifiers or variable names. You can print all the Python keywords using the keyword library as follows:"
   ]
  },
  {
   "cell_type": "code",
   "execution_count": 1,
   "id": "1d69333d",
   "metadata": {},
   "outputs": [
    {
     "name": "stdout",
     "output_type": "stream",
     "text": [
      "['False', 'None', 'True', 'and', 'as', 'assert', 'async', 'await', 'break', 'class', 'continue', 'def', 'del', 'elif', 'else', 'except', 'finally', 'for', 'from', 'global', 'if', 'import', 'in', 'is', 'lambda', 'nonlocal', 'not', 'or', 'pass', 'raise', 'return', 'try', 'while', 'with', 'yield']\n"
     ]
    }
   ],
   "source": [
    "import keyword\n",
    "print(keyword.kwlist)"
   ]
  },
  {
   "cell_type": "markdown",
   "id": "1f30045f",
   "metadata": {},
   "source": [
    "## 2. What are the rules to create variables in python?"
   ]
  },
  {
   "cell_type": "markdown",
   "id": "3b196cf0",
   "metadata": {},
   "source": [
    "The rules to create variables in Python are:\n",
    "\n",
    "* A variable name must start with a letter or the underscore character.\n",
    "* A variable name cannot start with a number.\n",
    "* A variable name can only contain alpha-numeric characters and underscores (A-z, * 0-9, and _ ).\n",
    "* Variable names are case-sensitive."
   ]
  },
  {
   "cell_type": "markdown",
   "id": "98044dfb",
   "metadata": {},
   "source": [
    "## 3. What are the standards and conventions followed for the nomenclature of variables in python to improve code readability and maintainability?"
   ]
  },
  {
   "cell_type": "markdown",
   "id": "47c9ffe2",
   "metadata": {},
   "source": [
    "In Python, adhering to consistent naming conventions and standards for variables is essential to improve code readability.\n",
    "\n",
    "Some of them are:\n",
    "\n",
    "1. Snake Case for Variables.\n",
    "2. Descriptive and Meaningful Names.\n",
    "3. Avoid Reserved Keywords.\n",
    "4. Use Plural for Collections.\n",
    "5. Constants in UPPERCASE.\n",
    "6. Class Names in CamelCase.\n",
    "7. Private Variables with Leading Underscore.\n",
    "8. Module-level Constants with ALL_CAPS."
   ]
  },
  {
   "cell_type": "markdown",
   "id": "bc1c300b",
   "metadata": {},
   "source": [
    "## Q.4. What will happen if a keyword is used as a variable name?"
   ]
  },
  {
   "cell_type": "markdown",
   "id": "ecac3f5b",
   "metadata": {},
   "source": [
    "If a keyword is used as a variable name, python will raise a SyntaxError. Keywords are reserved words that Python uses for specific operations and they cannot be used as identifiers."
   ]
  },
  {
   "cell_type": "code",
   "execution_count": 2,
   "id": "8615bb88",
   "metadata": {},
   "outputs": [
    {
     "ename": "SyntaxError",
     "evalue": "cannot assign to True (1031579503.py, line 1)",
     "output_type": "error",
     "traceback": [
      "\u001b[1;36m  Cell \u001b[1;32mIn[2], line 1\u001b[1;36m\u001b[0m\n\u001b[1;33m    True = \"This is true\" # True is a keyword and cannot be used as a variable name/identifier\u001b[0m\n\u001b[1;37m    ^\u001b[0m\n\u001b[1;31mSyntaxError\u001b[0m\u001b[1;31m:\u001b[0m cannot assign to True\n"
     ]
    }
   ],
   "source": [
    "True = \"This is true\" # True is a keyword and cannot be used as a variable name/identifier"
   ]
  },
  {
   "cell_type": "markdown",
   "id": "69eb8f7e",
   "metadata": {},
   "source": [
    "## 5. For what purpose def keyword is used?"
   ]
  },
  {
   "cell_type": "markdown",
   "id": "88b1335e",
   "metadata": {},
   "source": [
    "The def keyword is used to define a function in Python. It marks the start of the function header."
   ]
  },
  {
   "cell_type": "code",
   "execution_count": 4,
   "id": "d11db270",
   "metadata": {},
   "outputs": [
    {
     "data": {
      "text/plain": [
       "9"
      ]
     },
     "execution_count": 4,
     "metadata": {},
     "output_type": "execute_result"
    }
   ],
   "source": [
    "def add_num(x,y):\n",
    "  return x + y\n",
    "\n",
    "add_num(5,4)"
   ]
  },
  {
   "cell_type": "markdown",
   "id": "71f42171",
   "metadata": {},
   "source": [
    "## 6. What is the operation of this special character ‘\\’?"
   ]
  },
  {
   "cell_type": "markdown",
   "id": "a6f3df5e",
   "metadata": {},
   "source": [
    "The special character ‘\\’ is used as an escape character in python. It allows you to include special characters in strings that would otherwise result in syntax errors."
   ]
  },
  {
   "cell_type": "code",
   "execution_count": 5,
   "id": "6f121ff6",
   "metadata": {},
   "outputs": [
    {
     "name": "stdout",
     "output_type": "stream",
     "text": [
      "He asked, \"How are you?\"\n"
     ]
    }
   ],
   "source": [
    "print(\"He asked, \\\"How are you?\\\"\")"
   ]
  },
  {
   "cell_type": "markdown",
   "id": "36cf6481",
   "metadata": {},
   "source": [
    "## 7. Give an example of the following conditions:\n",
    "\n",
    "* (i) Homogeneous list\n",
    "* (ii) Heterogeneous set\n",
    "* (iii) Homogeneous tuple"
   ]
  },
  {
   "cell_type": "markdown",
   "id": "982cf93f",
   "metadata": {},
   "source": [
    "Examples of the following conditions:\n",
    "* (i) Homogeneous list: [1, 2, 3, 4, 5]\n",
    "* (ii) Heterogeneous set: {1, \"two\", 3.0, * \"four\"}\n",
    "* (iii) Homogeneous tuple: (1, 2, 3, 4, 5)"
   ]
  },
  {
   "cell_type": "markdown",
   "id": "1bf3855b",
   "metadata": {},
   "source": [
    "## 8. Explain the mutable and immutable data types with proper explanation & examples."
   ]
  },
  {
   "cell_type": "markdown",
   "id": "426b0f99",
   "metadata": {},
   "source": [
    "Mutable data types in python are those which can be changed after they are created.\n",
    "* Example: lists, sets, and dictionaries.\n",
    "\n",
    "Immutable data types are those which cannot be changed after they are created.\n",
    "* Example: integers, floats, strings, tuples, and frozensets."
   ]
  },
  {
   "cell_type": "markdown",
   "id": "3f892974",
   "metadata": {},
   "source": [
    "## 9. Write a code to create the given structure using only for loop."
   ]
  },
  {
   "cell_type": "code",
   "execution_count": 9,
   "id": "d7712f37",
   "metadata": {},
   "outputs": [
    {
     "name": "stdout",
     "output_type": "stream",
     "text": [
      "    *\n",
      "   ***\n",
      "  *****\n",
      " *******\n",
      "*********\n"
     ]
    }
   ],
   "source": [
    "n=5\n",
    "for i in range(n):\n",
    "    print(' ' * (n - i - 1) + '*' * (2 * i + 1))"
   ]
  },
  {
   "cell_type": "markdown",
   "id": "302a5dec",
   "metadata": {},
   "source": [
    "## 10. Write a code to create the given structure using while loop."
   ]
  },
  {
   "cell_type": "code",
   "execution_count": 10,
   "id": "c098c49c",
   "metadata": {},
   "outputs": [
    {
     "name": "stdout",
     "output_type": "stream",
     "text": [
      "|||||||||\n",
      " |||||||\n",
      "  |||||\n",
      "   |||\n",
      "    |\n"
     ]
    }
   ],
   "source": [
    "n = 5\n",
    "while n > 0:\n",
    "    print(' ' * (5 - n) + '|' * (2 * n - 1))\n",
    "    n -= 1"
   ]
  }
 ],
 "metadata": {
  "kernelspec": {
   "display_name": "Python 3 (ipykernel)",
   "language": "python",
   "name": "python3"
  },
  "language_info": {
   "codemirror_mode": {
    "name": "ipython",
    "version": 3
   },
   "file_extension": ".py",
   "mimetype": "text/x-python",
   "name": "python",
   "nbconvert_exporter": "python",
   "pygments_lexer": "ipython3",
   "version": "3.11.1"
  }
 },
 "nbformat": 4,
 "nbformat_minor": 5
}
