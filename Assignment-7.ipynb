{
 "cells": [
  {
   "cell_type": "markdown",
   "id": "06209b24",
   "metadata": {},
   "source": [
    "## 1. Create two int type variables, apply addition, subtraction, division and multiplications and store the results in variables. Then print the data in the following format by calling the variables:\n",
    "\n",
    "    First variable is __ & second variable is __.\n",
    "    Addition: __ + __ = __\n",
    "    Subtraction: __ - __ = __\n",
    "    Multiplication: __ * __ = __\n",
    "    Division: __ / __ = __"
   ]
  },
  {
   "cell_type": "code",
   "execution_count": 1,
   "id": "1c7555be",
   "metadata": {},
   "outputs": [
    {
     "name": "stdout",
     "output_type": "stream",
     "text": [
      "First variable is 1111 & second variable is 111.\n",
      "Addition: 1111 + 111 = 1222\n",
      "Subtraction: 1111 - 111 = 1000\n",
      "Multiplication: 1111 * 111 = 123321\n",
      "Division: 1111 / 111 = 10.00900900900901\n"
     ]
    }
   ],
   "source": [
    "\n",
    "var1 = 1111\n",
    "var2 = 111\n",
    "\n",
    "add = var1 + var2\n",
    "sub = var1 - var2\n",
    "mul = var1 * var2\n",
    "div = var1 / var2\n",
    "\n",
    "print(f\"First variable is {var1} & second variable is {var2}.\")\n",
    "print(f\"Addition: {var1} + {var2} = {add}\")\n",
    "print(f\"Subtraction: {var1} - {var2} = {sub}\")\n",
    "print(f\"Multiplication: {var1} * {var2} = {mul}\")\n",
    "print(f\"Division: {var1} / {var2} = {div}\")\n"
   ]
  },
  {
   "cell_type": "markdown",
   "id": "e4adfb07",
   "metadata": {},
   "source": [
    "## 2. What is the difference between the following operators:\n",
    "### (i) '/' and '//\"\n",
    "### (ii) '**' & '^'\n",
    "\n",
    "\n",
    "\n",
    "\n"
   ]
  },
  {
   "cell_type": "markdown",
   "id": "c00da690",
   "metadata": {},
   "source": [
    "The differences between the operators are:\n",
    "* (i) '/' performs floating point division, while '//' performs floor division.\n",
    "* (ii) '**' is the exponentiation operator, while '^' is the bitwise XOR operator."
   ]
  },
  {
   "cell_type": "code",
   "execution_count": 2,
   "id": "d2154bf9",
   "metadata": {},
   "outputs": [
    {
     "name": "stdout",
     "output_type": "stream",
     "text": [
      "3.5\n",
      "3\n",
      "8\n",
      "6\n"
     ]
    }
   ],
   "source": [
    "result = 7 / 2\n",
    "print(result)\n",
    "\n",
    "result = 7 // 2\n",
    "print(result)\n",
    "\n",
    "result = 2 ** 3\n",
    "print(result)\n",
    "\n",
    "result = 5 ^ 3\n",
    "print(result)\n"
   ]
  },
  {
   "cell_type": "markdown",
   "id": "16641236",
   "metadata": {},
   "source": [
    "## 3. List the logical operators."
   ]
  },
  {
   "cell_type": "markdown",
   "id": "10972ba4",
   "metadata": {},
   "source": [
    "There are Three types of logical operator. It results in True or False\n",
    "\n",
    "    1 . and --> Returns True if both statements are true\n",
    "    2 . or  --> Returns True if one of the statements is true\n",
    "    3 . not --> Reverses the result, returns False if the result is true and vice versa."
   ]
  },
  {
   "cell_type": "markdown",
   "id": "9fa3a12d",
   "metadata": {},
   "source": [
    "## 4. Explain right shift operator and left shift operator with examples."
   ]
  },
  {
   "cell_type": "markdown",
   "id": "ee0d09ec",
   "metadata": {},
   "source": [
    "* The right shift operator '>>' shifts the bits of the number to the right and fills 0 on voids left as a result.\n",
    "* The left shift operator '<<' shifts the bits of the number to the left and fills 0 on voids left as a result.\n",
    "* example:"
   ]
  },
  {
   "cell_type": "code",
   "execution_count": 3,
   "id": "2b216901",
   "metadata": {},
   "outputs": [
    {
     "name": "stdout",
     "output_type": "stream",
     "text": [
      "25\n",
      "400\n"
     ]
    }
   ],
   "source": [
    "# Right shift\n",
    "print(100 >> 2)\n",
    "\n",
    "# Left shift\n",
    "print(100 << 2)"
   ]
  },
  {
   "cell_type": "markdown",
   "id": "0ce59228",
   "metadata": {},
   "source": [
    "## 5. Create a list containing int type data of length 15. Then write a code to check if 10 is present in the list or not.\n",
    "\n",
    "\n"
   ]
  },
  {
   "cell_type": "code",
   "execution_count": 4,
   "id": "f7d89bcd",
   "metadata": {
    "scrolled": true
   },
   "outputs": [
    {
     "name": "stdout",
     "output_type": "stream",
     "text": [
      "10 is present in the list.\n"
     ]
    }
   ],
   "source": [
    "lst = [1, 2, 3, 4, 5, 6, 7, 8, 9, 10, 11, 12, 13, 14, 15]\n",
    "\n",
    "if 10 in lst:\n",
    "    print(\"10 is present in the list.\")\n",
    "else:\n",
    "    print(\"10 is not present in the list.\")"
   ]
  }
 ],
 "metadata": {
  "kernelspec": {
   "display_name": "Python 3 (ipykernel)",
   "language": "python",
   "name": "python3"
  },
  "language_info": {
   "codemirror_mode": {
    "name": "ipython",
    "version": 3
   },
   "file_extension": ".py",
   "mimetype": "text/x-python",
   "name": "python",
   "nbconvert_exporter": "python",
   "pygments_lexer": "ipython3",
   "version": "3.11.1"
  }
 },
 "nbformat": 4,
 "nbformat_minor": 5
}
