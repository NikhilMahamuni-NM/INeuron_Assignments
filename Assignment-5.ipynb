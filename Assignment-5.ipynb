{
 "cells": [
  {
   "cell_type": "markdown",
   "id": "5e5fe614",
   "metadata": {},
   "source": [
    "# Assignment 5"
   ]
  },
  {
   "cell_type": "markdown",
   "id": "553adb40",
   "metadata": {},
   "source": [
    "## 1. What does an empty dictionary's code look like?"
   ]
  },
  {
   "cell_type": "markdown",
   "id": "bc3593d4",
   "metadata": {},
   "source": [
    "An empty dictionary's code looks like this: {}"
   ]
  },
  {
   "cell_type": "markdown",
   "id": "3b802eac",
   "metadata": {},
   "source": [
    "## 2. What is the value of a dictionary value with the key 'foo' and the value 42?"
   ]
  },
  {
   "cell_type": "markdown",
   "id": "2664ef11",
   "metadata": {},
   "source": [
    "The value of a dictionary with the key 'foo' and the value 42 is: {'foo': 42}"
   ]
  },
  {
   "cell_type": "code",
   "execution_count": 1,
   "id": "38bc50df",
   "metadata": {},
   "outputs": [],
   "source": [
    "dict = {'foo' : 42}"
   ]
  },
  {
   "cell_type": "code",
   "execution_count": 3,
   "id": "4f1d8a04",
   "metadata": {},
   "outputs": [
    {
     "data": {
      "text/plain": [
       "{'foo': 42}"
      ]
     },
     "execution_count": 3,
     "metadata": {},
     "output_type": "execute_result"
    }
   ],
   "source": [
    "dict"
   ]
  },
  {
   "cell_type": "markdown",
   "id": "37ad78b1",
   "metadata": {},
   "source": [
    "## 3. What is the most significant distinction between a dictionary and a list?"
   ]
  },
  {
   "cell_type": "markdown",
   "id": "4b42cae9",
   "metadata": {},
   "source": [
    "The most significant distinction between a dictionary and a list is that:\n",
    "* items in dictionaries are accessed via keys and not via their position.\n",
    "* A dictionary is an associative array (also known as hashes).\n",
    "* Any key of the dictionary is associated (or mapped) to a value.\n",
    "* The values of a dictionary can be any Python data type. So dictionaries are unordered key-value-pairs."
   ]
  },
  {
   "cell_type": "markdown",
   "id": "126acb46",
   "metadata": {},
   "source": [
    "## 4. What happens if you try to access spam['foo'] if spam is {'bar': 100}?"
   ]
  },
  {
   "cell_type": "markdown",
   "id": "3d0944a0",
   "metadata": {},
   "source": [
    "If you try to access spam['foo'] if spam is {'bar': 100}, we will get a KeyError, because there is no key 'foo' in the dictionary."
   ]
  },
  {
   "cell_type": "code",
   "execution_count": 4,
   "id": "e4d5f954",
   "metadata": {},
   "outputs": [
    {
     "ename": "KeyError",
     "evalue": "'foo'",
     "output_type": "error",
     "traceback": [
      "\u001b[1;31m---------------------------------------------------------------------------\u001b[0m",
      "\u001b[1;31mKeyError\u001b[0m                                  Traceback (most recent call last)",
      "Cell \u001b[1;32mIn[4], line 2\u001b[0m\n\u001b[0;32m      1\u001b[0m spam \u001b[38;5;241m=\u001b[39m {\u001b[38;5;124m'\u001b[39m\u001b[38;5;124mbar\u001b[39m\u001b[38;5;124m'\u001b[39m: \u001b[38;5;241m100\u001b[39m}\n\u001b[1;32m----> 2\u001b[0m \u001b[38;5;28mprint\u001b[39m(\u001b[43mspam\u001b[49m\u001b[43m[\u001b[49m\u001b[38;5;124;43m'\u001b[39;49m\u001b[38;5;124;43mfoo\u001b[39;49m\u001b[38;5;124;43m'\u001b[39;49m\u001b[43m]\u001b[49m)\n",
      "\u001b[1;31mKeyError\u001b[0m: 'foo'"
     ]
    }
   ],
   "source": [
    "spam = {'bar': 100}\n",
    "print(spam['foo'])"
   ]
  },
  {
   "cell_type": "markdown",
   "id": "5d4975d4",
   "metadata": {},
   "source": [
    "## 5. If a dictionary is stored in spam, what is the difference between the expressions 'cat' in spam and 'cat' in spam.keys()?"
   ]
  },
  {
   "cell_type": "markdown",
   "id": "068ca4ac",
   "metadata": {},
   "source": [
    "If a dictionary is stored in spam, the expression 'cat' in spam checks if 'cat' is a key in the dictionary, while 'cat' in spam.keys() does the same thing."
   ]
  },
  {
   "cell_type": "code",
   "execution_count": 5,
   "id": "632bbbc4",
   "metadata": {},
   "outputs": [
    {
     "name": "stdout",
     "output_type": "stream",
     "text": [
      "True\n",
      "True\n"
     ]
    }
   ],
   "source": [
    "spam = {'cat': 'Zophie'}\n",
    "print('cat' in spam)\n",
    "print('cat' in spam.keys())"
   ]
  },
  {
   "cell_type": "markdown",
   "id": "c9d697d6",
   "metadata": {},
   "source": [
    "## 6. If a dictionary is stored in spam, what is the difference between the expressions 'cat' in spam and 'cat' in spam.values()?"
   ]
  },
  {
   "cell_type": "markdown",
   "id": "c655ac64",
   "metadata": {},
   "source": [
    "If a dictionary is stored in spam, the expression 'cat' in spam checks if 'cat' is a key in the dictionary, while 'cat' in spam.values() checks if 'cat' is a value in the dictionary."
   ]
  },
  {
   "cell_type": "code",
   "execution_count": 6,
   "id": "d08c1525",
   "metadata": {},
   "outputs": [
    {
     "name": "stdout",
     "output_type": "stream",
     "text": [
      "False\n",
      "True\n"
     ]
    }
   ],
   "source": [
    "spam = {'pet': 'cat'}\n",
    "print('cat' in spam)\n",
    "print('cat' in spam.values())"
   ]
  },
  {
   "cell_type": "markdown",
   "id": "d9583451",
   "metadata": {},
   "source": [
    "## 7. What is a shortcut for the following code?\n",
    "if 'color' not in spam:\n",
    "    \n",
    "   spam['color'] = 'black'\n"
   ]
  },
  {
   "cell_type": "markdown",
   "id": "442565ea",
   "metadata": {},
   "source": [
    "Shortcut for the code is using the dict.setdefault() method."
   ]
  },
  {
   "cell_type": "code",
   "execution_count": 7,
   "id": "02f8f4bb",
   "metadata": {},
   "outputs": [
    {
     "data": {
      "text/plain": [
       "'black'"
      ]
     },
     "execution_count": 7,
     "metadata": {},
     "output_type": "execute_result"
    }
   ],
   "source": [
    "spam.setdefault('color', 'black')"
   ]
  },
  {
   "cell_type": "markdown",
   "id": "2f825829",
   "metadata": {},
   "source": [
    "## 8. How do you \"pretty print\" dictionary values using which module and function?"
   ]
  },
  {
   "cell_type": "markdown",
   "id": "67664c66",
   "metadata": {},
   "source": [
    "Python provides the pprint module (pretty print module) to achieve readability of complex code structures. The pprint module includes the pprint() function, which formats and prints data structures in a visually organized manner."
   ]
  },
  {
   "cell_type": "code",
   "execution_count": 8,
   "id": "66737659",
   "metadata": {},
   "outputs": [
    {
     "name": "stdout",
     "output_type": "stream",
     "text": [
      "{'address': {'city': 'Nagpur', 'zipcode': '441111'},\n",
      " 'age': 26,\n",
      " 'interests': ['cooking', 'coding', 'hiking'],\n",
      " 'name': 'Sufal Banerjee '}\n"
     ]
    }
   ],
   "source": [
    "import pprint\n",
    "\n",
    "data = {\n",
    "    'name': 'Sufal Banerjee ',\n",
    "    'age': 26,\n",
    "    'address': {\n",
    "        'city': 'Nagpur',\n",
    "        'zipcode': '441111'\n",
    "    },\n",
    "    'interests': ['cooking', 'coding', 'hiking']\n",
    "}\n",
    "\n",
    "pprint.pprint(data)"
   ]
  }
 ],
 "metadata": {
  "kernelspec": {
   "display_name": "Python 3 (ipykernel)",
   "language": "python",
   "name": "python3"
  },
  "language_info": {
   "codemirror_mode": {
    "name": "ipython",
    "version": 3
   },
   "file_extension": ".py",
   "mimetype": "text/x-python",
   "name": "python",
   "nbconvert_exporter": "python",
   "pygments_lexer": "ipython3",
   "version": "3.11.1"
  }
 },
 "nbformat": 4,
 "nbformat_minor": 5
}
