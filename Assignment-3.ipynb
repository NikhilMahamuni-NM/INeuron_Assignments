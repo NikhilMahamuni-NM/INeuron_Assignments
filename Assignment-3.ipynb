{
 "cells": [
  {
   "cell_type": "markdown",
   "id": "cf8aa6ac",
   "metadata": {},
   "source": [
    "# Assignment 3"
   ]
  },
  {
   "cell_type": "markdown",
   "id": "17949783",
   "metadata": {},
   "source": [
    "# 1. Why are functions advantageous to have in your programs?"
   ]
  },
  {
   "cell_type": "markdown",
   "id": "ea2b0755",
   "metadata": {},
   "source": [
    "Functions are advantageous to in the programs because of the following reasons:\n",
    "\n",
    "* Reusability: Avoid rewriting code by calling functions multiple times.\n",
    "* Modularity: Break complex tasks into smaller, manageable modules.\n",
    "* Readability: Descriptive function names make the code more understandable.\n",
    "* Abstraction: Hide implementation details from the caller.\n",
    "* Testing: Functions can be tested independently, which helps in debugging.\n",
    "* Easy to maintain: Changes are centralized, reducing bugs and improving code.\n",
    "* Collaboration: Facilitate parallel development with different team members.\n",
    "* Organization: Functions improve code structure and navigation."
   ]
  },
  {
   "cell_type": "markdown",
   "id": "168dca5a",
   "metadata": {},
   "source": [
    "## 2. When does the code in a function run: when it's specified or when it's called?"
   ]
  },
  {
   "cell_type": "markdown",
   "id": "cbb82332",
   "metadata": {},
   "source": [
    "The code inside a function runs when the function is called, not when it is specified. Defining a function only creates a blueprint for what the function should do when it is invoked, but it does not execute the code inside the function at that moment but when we call a function, the program jumps to the function's definition and starts executing the code inside it."
   ]
  },
  {
   "cell_type": "markdown",
   "id": "3de36832",
   "metadata": {},
   "source": [
    "## 3. What statement creates a function?"
   ]
  },
  {
   "cell_type": "markdown",
   "id": "2819e2c3",
   "metadata": {},
   "source": [
    "The \"def\" statement is used to create a function. It is followed by the function name, a pair of parentheses (), and a colon :\n",
    "* Ex: def add_num(x,y):"
   ]
  },
  {
   "cell_type": "markdown",
   "id": "2537b4f0",
   "metadata": {},
   "source": [
    "## 4. What is the difference between a function and a function call?"
   ]
  },
  {
   "cell_type": "markdown",
   "id": "a60d0e09",
   "metadata": {},
   "source": [
    "* Function: A block of code defined using def that performs a specific task. It can take inputs and optionally return a value.\n",
    "\n",
    "* Function Call: The execution of a function's code using the function's name with parentheses and, if necessary, passing arguments to it."
   ]
  },
  {
   "cell_type": "markdown",
   "id": "9e6cdcf9",
   "metadata": {},
   "source": [
    "## 5. How many global scopes are there in a Python program? How many local scopes?"
   ]
  },
  {
   "cell_type": "markdown",
   "id": "b00eb110",
   "metadata": {},
   "source": [
    "In a Python program:\n",
    "\n",
    "**Global Scopes:** There is only one global scope. It is the top-level scope that exists throughout the entire program and includes all the variables defined at the outermost level of the script or module. Variables defined in the global scope can be accessed from anywhere within the program.\n",
    "\n",
    "**Local Scopes:** The number of local scopes depends on the number of function or method calls made during the program's execution. Each time a function or method is called, a new local scope is created for that specific call. Local scopes are temporary and are cleaned up once the function or method execution is completed. Variables defined within a function or method are limited to their respective local scopes and cannot be accessed from outside unless returned explicitly."
   ]
  },
  {
   "cell_type": "markdown",
   "id": "3614cc9f",
   "metadata": {},
   "source": [
    "## 6. What happens to variables in a local scope when the function call returns?"
   ]
  },
  {
   "cell_type": "markdown",
   "id": "828f3ba0",
   "metadata": {},
   "source": [
    "When a function call returns in Python, the local scope of that function is destroyed, and the variables defined within that scope cease to exist. This process is known as the \"cleanup\" or \"destruction\" of the local scope."
   ]
  },
  {
   "cell_type": "code",
   "execution_count": 1,
   "id": "6f698655",
   "metadata": {},
   "outputs": [
    {
     "name": "stdout",
     "output_type": "stream",
     "text": [
      "30\n"
     ]
    }
   ],
   "source": [
    "def add_num():\n",
    "    x = 10\n",
    "    y = 20\n",
    "    result = x + y\n",
    "    return result\n",
    "\n",
    "output = add_num()\n",
    "print(output)\n"
   ]
  },
  {
   "cell_type": "code",
   "execution_count": 2,
   "id": "bf6808a1",
   "metadata": {},
   "outputs": [
    {
     "ename": "NameError",
     "evalue": "name 'x' is not defined",
     "output_type": "error",
     "traceback": [
      "\u001b[1;31m---------------------------------------------------------------------------\u001b[0m",
      "\u001b[1;31mNameError\u001b[0m                                 Traceback (most recent call last)",
      "Cell \u001b[1;32mIn[2], line 1\u001b[0m\n\u001b[1;32m----> 1\u001b[0m \u001b[38;5;28mprint\u001b[39m(\u001b[43mx\u001b[49m)\n",
      "\u001b[1;31mNameError\u001b[0m: name 'x' is not defined"
     ]
    }
   ],
   "source": [
    "print(x)"
   ]
  },
  {
   "cell_type": "markdown",
   "id": "70e51582",
   "metadata": {},
   "source": [
    "when the add_num() function is called, it creates variables x, y, and result within its local scope. After the function call returns and the local scope is destroyed, these variables are no longer accessible, and trying to access them outside the function results in a NameError."
   ]
  },
  {
   "cell_type": "markdown",
   "id": "b35ae0ef",
   "metadata": {},
   "source": [
    "## 7. What is the concept of a return value? Is it possible to have a return value in an expression?"
   ]
  },
  {
   "cell_type": "markdown",
   "id": "cae9e385",
   "metadata": {},
   "source": [
    "A return value in python is the value a function sends back to the caller after completing its execution. It is specified using the return statement, and yes it can be used in expressions, assigned to variables, or passed as arguments to other functions."
   ]
  },
  {
   "cell_type": "markdown",
   "id": "e1361f5a",
   "metadata": {},
   "source": [
    "## 8. If a function does not have a return statement, what is the return value of a call to that function?"
   ]
  },
  {
   "cell_type": "markdown",
   "id": "93c1f069",
   "metadata": {},
   "source": [
    "If a function does not have a return statement, the return value of a call to that function will be None. When a function does not explicitly specify a return value, it automatically returns None by default."
   ]
  },
  {
   "cell_type": "code",
   "execution_count": 3,
   "id": "db247a18",
   "metadata": {},
   "outputs": [
    {
     "name": "stdout",
     "output_type": "stream",
     "text": [
      "you are 25 years old\n",
      "None\n"
     ]
    }
   ],
   "source": [
    "def age(age):\n",
    "  print(f\"you are {age} years old\")\n",
    "\n",
    "aged = age(25)\n",
    "print(aged)"
   ]
  },
  {
   "cell_type": "code",
   "execution_count": 4,
   "id": "ecbe5d1c",
   "metadata": {},
   "outputs": [
    {
     "name": "stdout",
     "output_type": "stream",
     "text": [
      "You are 25 years old\n"
     ]
    }
   ],
   "source": [
    "def ages(age):\n",
    "    return f\"You are {age} years old\"\n",
    "\n",
    "aged1 = ages(25)\n",
    "print(aged1)"
   ]
  },
  {
   "cell_type": "markdown",
   "id": "42284550",
   "metadata": {},
   "source": [
    "# 9. How do you make a function variable refer to the global variable?"
   ]
  },
  {
   "cell_type": "code",
   "execution_count": 5,
   "id": "cf2d1b33",
   "metadata": {},
   "outputs": [
    {
     "name": "stdout",
     "output_type": "stream",
     "text": [
      "Before function call: 100\n",
      "After function call: 200\n"
     ]
    }
   ],
   "source": [
    "number = 100\n",
    "\n",
    "def test():\n",
    "    global number\n",
    "    number = 200\n",
    "\n",
    "print(\"Before function call:\", number)\n",
    "test()\n",
    "print(\"After function call:\", number)"
   ]
  },
  {
   "cell_type": "markdown",
   "id": "1d730049",
   "metadata": {},
   "source": [
    "## 10. What is the data type of None?"
   ]
  },
  {
   "cell_type": "markdown",
   "id": "7845d8b8",
   "metadata": {},
   "source": [
    "The data type of None in Python is NoneType. It is a special built-in type that represents the absence of a value or a null value."
   ]
  },
  {
   "cell_type": "code",
   "execution_count": 6,
   "id": "3078ee87",
   "metadata": {},
   "outputs": [
    {
     "name": "stdout",
     "output_type": "stream",
     "text": [
      "<class 'NoneType'>\n"
     ]
    }
   ],
   "source": [
    "print(type(None))"
   ]
  },
  {
   "cell_type": "markdown",
   "id": "5d8acf6c",
   "metadata": {},
   "source": [
    "## 11. What does the sentence import areallyourpetsnamederic do?"
   ]
  },
  {
   "cell_type": "markdown",
   "id": "4fcc7bd7",
   "metadata": {},
   "source": [
    "The import keyword is used to bring modules into the current script or program's namespace, allowing you to use their contents.\n",
    "\n",
    "If there were a module named \"areallyourpetsnamederic.py\" in your python environment, the import statement would make the functions, classes, and variables defined in that module accessible within your current script or program.\n",
    "\n",
    "If you had a Python module named \"areallyourpetsnamederic.py\" containing a function called greet_pet() that greets a pet named Eric, you could use the import statement like this:\n"
   ]
  },
  {
   "cell_type": "code",
   "execution_count": null,
   "id": "e4da25c1",
   "metadata": {},
   "outputs": [],
   "source": [
    "import areallyourpetsnamederic\n",
    "\n",
    "areallyourpetsnamederic.greet_pet(\"Eric\")"
   ]
  },
  {
   "cell_type": "markdown",
   "id": "08586fdf",
   "metadata": {},
   "source": [
    "## 12. If you had a bacon() feature in a spam module, what would you call it after importing spam?"
   ]
  },
  {
   "cell_type": "markdown",
   "id": "22880064",
   "metadata": {},
   "source": [
    "After importing the \"spam\" module, we can call the \"bacon()\" function from the module using the following syntax:\n",
    "\n",
    "```\n",
    "import spam\n",
    "\n",
    "spam.bacon()\n",
    "```\n",
    "\n",
    "We assume that the \"spam\" module contains a function named \"bacon()\". By using the \"import\" statement, we bring the entire \"spam\" module into our current script or program's namespace, and then we can access its functions, classes, and variables using the module name followed by a dot and the specific function or attribute name."
   ]
  },
  {
   "cell_type": "markdown",
   "id": "e37e3ae4",
   "metadata": {},
   "source": [
    "## 13. What can you do to save a programme from crashing if it encounters an error?"
   ]
  },
  {
   "cell_type": "markdown",
   "id": "8e7f3e89",
   "metadata": {},
   "source": [
    "To prevent a program from crashing when it encounters an error, we can use error handling techniques. To handle exceptions, we can use a try block to enclose the code that might raise an error, and one or more except blocks to define how to handle specific types of exceptions. If an exception occurs within the try block, the corresponding except block is executed, and the program continues running after the error has been handled."
   ]
  },
  {
   "cell_type": "code",
   "execution_count": 8,
   "id": "4a299526",
   "metadata": {},
   "outputs": [],
   "source": [
    "def divide(a, b):\n",
    "    try:\n",
    "        result = a / b\n",
    "        return result\n",
    "    except ZeroDivisionError:\n",
    "        print(\"Error: Division by zero is not allowed.\")\n",
    "        return None"
   ]
  },
  {
   "cell_type": "code",
   "execution_count": 9,
   "id": "eed0de7f",
   "metadata": {},
   "outputs": [
    {
     "name": "stdout",
     "output_type": "stream",
     "text": [
      "Error: Division by zero is not allowed.\n"
     ]
    },
    {
     "data": {
      "text/plain": [
       "166.667"
      ]
     },
     "execution_count": 9,
     "metadata": {},
     "output_type": "execute_result"
    }
   ],
   "source": [
    "divide(500,0)\n",
    "round(divide(500,3), 3)"
   ]
  },
  {
   "cell_type": "markdown",
   "id": "e6111b91",
   "metadata": {},
   "source": [
    "# 14. What is the purpose of the try clause? What is the purpose of the except clause?"
   ]
  },
  {
   "cell_type": "markdown",
   "id": "c90bb7f7",
   "metadata": {},
   "source": [
    "The try clause is used to enclose code that might raise an exception, and the except clause is used to handle specific types of exceptions that may occur in the try block. Together, they implement error handling and prevent program crashes."
   ]
  }
 ],
 "metadata": {
  "kernelspec": {
   "display_name": "Python 3 (ipykernel)",
   "language": "python",
   "name": "python3"
  },
  "language_info": {
   "codemirror_mode": {
    "name": "ipython",
    "version": 3
   },
   "file_extension": ".py",
   "mimetype": "text/x-python",
   "name": "python",
   "nbconvert_exporter": "python",
   "pygments_lexer": "ipython3",
   "version": "3.11.1"
  }
 },
 "nbformat": 4,
 "nbformat_minor": 5
}
