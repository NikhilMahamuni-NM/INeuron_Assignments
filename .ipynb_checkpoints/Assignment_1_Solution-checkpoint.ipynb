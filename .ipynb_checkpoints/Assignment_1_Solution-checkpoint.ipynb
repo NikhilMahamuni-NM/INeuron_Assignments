{
 "cells": [
  {
   "cell_type": "markdown",
   "id": "aad5b89d",
   "metadata": {},
   "source": [
    "# Assignment 1"
   ]
  },
  {
   "cell_type": "raw",
   "id": "45fe8ec0",
   "metadata": {},
   "source": [
    "1. In the below elements which of them are values or an expression? eg:- values can be\n",
    "integer or string and expressions will be mathematical operators.\n",
    "*\n",
    "'hello'\n",
    "-87.8\n",
    "-\n",
    "/\n",
    "+\n",
    "6\n",
    " \n",
    "Ans -\n",
    " \n",
    "Values are  'hello', -87.8, 6\n",
    "Expression are  *, -, /, +"
   ]
  },
  {
   "cell_type": "raw",
   "id": "669ee541",
   "metadata": {},
   "source": []
  },
  {
   "cell_type": "raw",
   "id": "05429d16",
   "metadata": {},
   "source": [
    "2. What is the difference between string and variable?\n",
    "\n",
    "Ans -\n",
    "\n",
    "A Variable is a store of information, and a String is a type of information you would store in a Variable. \n",
    "\n",
    "Eg - \n",
    "String x =\"Welcome to INeuron\"\n",
    "Here, x is the Variable and we assign a string value to it."
   ]
  },
  {
   "cell_type": "code",
   "execution_count": null,
   "id": "066f96e9",
   "metadata": {},
   "outputs": [],
   "source": []
  },
  {
   "cell_type": "raw",
   "id": "f673f064",
   "metadata": {},
   "source": [
    "3. Describe three different data types.\n",
    "\n",
    "Ans -\n",
    "\n",
    "Data types specify the type of data that can be stored inside a variable.\n",
    "The Three Different Data types are -\n",
    "    - Numeric\n",
    "    - Boolean\n",
    "    - String\n",
    "\n",
    "Numeric Data Type - Numeric data type is used to hold numeric values. Numeric values can be Integer values, float values or complex numbers.\n",
    "Eg - 99, 12.9, etc\n",
    "\n",
    "Boolean - Boolean Data type has only two values - True and False.\n",
    "\n",
    "String - A string is a collection of one or more characters put in a single quote, double-quote, or triple-quote.\n",
    "Eg - \"Hello\""
   ]
  },
  {
   "cell_type": "code",
   "execution_count": null,
   "id": "558911c4",
   "metadata": {},
   "outputs": [],
   "source": []
  },
  {
   "cell_type": "raw",
   "id": "dde103a5",
   "metadata": {},
   "source": [
    "4. What is an expression made up of? What do all expressions do?\n",
    "\n",
    "Ans - \n",
    "\n",
    "Expression is a combination of mathematical operators, constants and variables. Expression are evaluated to give some value which can then be used to solve other mathematical problems."
   ]
  },
  {
   "cell_type": "code",
   "execution_count": null,
   "id": "cabf5d63",
   "metadata": {},
   "outputs": [],
   "source": []
  },
  {
   "cell_type": "raw",
   "id": "21776281",
   "metadata": {},
   "source": [
    "5. This assignment statements, like spam = 10. What is the difference between an\n",
    "expression and a statement?\n",
    "\n",
    "Ans - \n",
    "\n",
    "An Expression is a combination of mathematical operators, constants and variables. Whereas, Statement is an action or a command that does something. Eg - If-Else,Loops, etc."
   ]
  },
  {
   "cell_type": "raw",
   "id": "39e832f4",
   "metadata": {},
   "source": []
  },
  {
   "cell_type": "raw",
   "id": "fdf56254",
   "metadata": {},
   "source": [
    "6. After running the following code, what does the variable bacon contain?\n",
    "bacon = 22\n",
    "bacon + 1\n",
    "\n",
    "\n",
    "Ans -\n",
    "\n",
    "23"
   ]
  },
  {
   "cell_type": "raw",
   "id": "2f861af3",
   "metadata": {},
   "source": []
  },
  {
   "cell_type": "raw",
   "id": "1a439018",
   "metadata": {},
   "source": [
    "7. What should the values of the following two terms be?\n",
    "\"spam\"+ \"spamspam\"\n",
    "\"spam\"* 3\n",
    "\n",
    "Ans - \n",
    "\n",
    "For both expression, the answer is \"spamspamspam\""
   ]
  },
  {
   "cell_type": "raw",
   "id": "667f9045",
   "metadata": {},
   "source": []
  },
  {
   "cell_type": "raw",
   "id": "c1cf12f2",
   "metadata": {},
   "source": [
    "8. Why is eggs a valid variable name while 100 is invalid?\n",
    "\n",
    "Ans - \n",
    "\n",
    "eggs is valid variable because it starts wit character.\n",
    "100 is invalid because it starts with a number."
   ]
  },
  {
   "cell_type": "raw",
   "id": "0d319e63",
   "metadata": {},
   "source": []
  },
  {
   "cell_type": "raw",
   "id": "1599d607",
   "metadata": {},
   "source": [
    "9. What three functions can be used to get the integer, floating-point number, or string\n",
    "version of a value?\n",
    "\n",
    "Ans - \n",
    "\n",
    "The three functions used to get the integer, floating-point number, or string version of a value are -\n",
    "    - int()\n",
    "    - float()\n",
    "    - str()"
   ]
  },
  {
   "cell_type": "raw",
   "id": "3d65bb5d",
   "metadata": {},
   "source": []
  },
  {
   "cell_type": "raw",
   "id": "d1f21c32",
   "metadata": {},
   "source": [
    "10. Why does this expression cause an error? How can you fix it?\n",
    "'I have eaten ' + 99 + 'burritos.'\n",
    "\n",
    "Ans - \n",
    "\n",
    "The above expression causes an error because 99 is an integer which cannot be concatenated with string. zOnly strings can be concatenated.\n",
    "\n",
    "It can be fixed by converting integer 99 to string.\n",
    "So the above expression will be -\n",
    "\n",
    "'I have eaten ' + str(99) + 'burritos.'"
   ]
  }
 ],
 "metadata": {
  "kernelspec": {
   "display_name": "Python 3 (ipykernel)",
   "language": "python",
   "name": "python3"
  },
  "language_info": {
   "codemirror_mode": {
    "name": "ipython",
    "version": 3
   },
   "file_extension": ".py",
   "mimetype": "text/x-python",
   "name": "python",
   "nbconvert_exporter": "python",
   "pygments_lexer": "ipython3",
   "version": "3.11.1"
  }
 },
 "nbformat": 4,
 "nbformat_minor": 5
}
