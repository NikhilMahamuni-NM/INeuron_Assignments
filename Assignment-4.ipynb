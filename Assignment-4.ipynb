{
 "cells": [
  {
   "cell_type": "markdown",
   "id": "130a5e50",
   "metadata": {},
   "source": [
    "# Assignment 4"
   ]
  },
  {
   "cell_type": "markdown",
   "id": "b146351e",
   "metadata": {},
   "source": [
    "## 1. What exactly is ''[ ]''?"
   ]
  },
  {
   "cell_type": "markdown",
   "id": "180a7bce",
   "metadata": {},
   "source": [
    "In Python \"[ ]\" is an empty list. An empty list is a list that contains no elements, and it is represented by square brackets with nothing inside them."
   ]
  },
  {
   "cell_type": "markdown",
   "id": "06eac2b3",
   "metadata": {},
   "source": [
    "## 2. In a list of values stored in a variable called spam, how would you assign the value 'hello' as the third value? (Assume [2, 4, 6, 8, 10] are in spam.)"
   ]
  },
  {
   "cell_type": "markdown",
   "id": "449b1150",
   "metadata": {},
   "source": [
    "You can assign the value 'hello' as the third value in the list stored in the variable 'spam' as:"
   ]
  },
  {
   "cell_type": "code",
   "execution_count": 1,
   "id": "3d484ef9",
   "metadata": {},
   "outputs": [
    {
     "name": "stdout",
     "output_type": "stream",
     "text": [
      "[2, 4, 'hello', 8, 10]\n"
     ]
    }
   ],
   "source": [
    "spam = [2, 4, 6, 8, 10]\n",
    "spam[2] = 'hello'\n",
    "\n",
    "print(spam)"
   ]
  },
  {
   "cell_type": "markdown",
   "id": "b784440d",
   "metadata": {},
   "source": [
    "# Let's pretend the spam includes the list ['a', 'b', 'c', 'd'] for the next three queries.\n",
    "## 3. What is the value of spam[int(int('3' * 2) / 11)]?\n"
   ]
  },
  {
   "cell_type": "markdown",
   "id": "14feeb5d",
   "metadata": {},
   "source": [
    "The value of spam[int(int('3' * 2) / 11)] is 'd'. This is because '3' * 2 is '33', which when converted to an integer and divided by 11 gives 3. The third index in the list ['a', 'b', 'c', 'd'] is 'd'."
   ]
  },
  {
   "cell_type": "code",
   "execution_count": 2,
   "id": "ccfc58a5",
   "metadata": {},
   "outputs": [
    {
     "data": {
      "text/plain": [
       "'d'"
      ]
     },
     "execution_count": 2,
     "metadata": {},
     "output_type": "execute_result"
    }
   ],
   "source": [
    "spam = ['a', 'b', 'c', 'd']\n",
    "spam[int(int('3' * 2) / 11)]\n"
   ]
  },
  {
   "cell_type": "markdown",
   "id": "b25370cd",
   "metadata": {},
   "source": [
    "## 4. What is the value of spam[-1]?"
   ]
  },
  {
   "cell_type": "markdown",
   "id": "4dd49bba",
   "metadata": {},
   "source": [
    "The value of spam[-1] is 'd'. In Python, -1 refers to the last index in a list."
   ]
  },
  {
   "cell_type": "code",
   "execution_count": 3,
   "id": "b2d97476",
   "metadata": {},
   "outputs": [
    {
     "name": "stdout",
     "output_type": "stream",
     "text": [
      "d\n"
     ]
    }
   ],
   "source": [
    "print(spam[-1])"
   ]
  },
  {
   "cell_type": "markdown",
   "id": "2a956b80",
   "metadata": {},
   "source": [
    "## 5. What is the value of spam[:2]?"
   ]
  },
  {
   "cell_type": "markdown",
   "id": "3046fece",
   "metadata": {},
   "source": [
    "The value of spam[:2] is ['a', 'b']. The slice [:2] gets the items from the start of the list up to but not including the index 2."
   ]
  },
  {
   "cell_type": "code",
   "execution_count": 4,
   "id": "f89662b9",
   "metadata": {},
   "outputs": [
    {
     "name": "stdout",
     "output_type": "stream",
     "text": [
      "['a', 'b']\n"
     ]
    }
   ],
   "source": [
    "print(spam[:2])"
   ]
  },
  {
   "cell_type": "markdown",
   "id": "8a23cd7c",
   "metadata": {},
   "source": [
    "# Let's pretend bacon has the list [3.14, 'cat,' 11, 'cat,' True] for the next three questions.\n",
    "## 6. What is the value of bacon.index('cat')?"
   ]
  },
  {
   "cell_type": "markdown",
   "id": "08152e8d",
   "metadata": {},
   "source": [
    "The value of bacon.index('cat') is 1. The index() method returns the first index at which a given element appears in the list."
   ]
  },
  {
   "cell_type": "code",
   "execution_count": 5,
   "id": "b7607488",
   "metadata": {},
   "outputs": [
    {
     "name": "stdout",
     "output_type": "stream",
     "text": [
      "(0, 3.14)\n",
      "(1, 'cat')\n",
      "(2, 11)\n",
      "(3, 'cat')\n",
      "(4, True)\n"
     ]
    }
   ],
   "source": [
    "bacon = [3.14, 'cat', 11, 'cat', True]\n",
    "bacon.index('cat')\n",
    "\n",
    "for i in enumerate(bacon):\n",
    "  print(i)"
   ]
  },
  {
   "cell_type": "markdown",
   "id": "6bfa552f",
   "metadata": {},
   "source": [
    "## 7. How does bacon.append(99) change the look of the list value in bacon?"
   ]
  },
  {
   "cell_type": "markdown",
   "id": "e77213da",
   "metadata": {},
   "source": [
    "bacon.append(99) adds the integer 99 to the end of the list, making it [3.14, 'cat', 11, 'cat', True, 99]."
   ]
  },
  {
   "cell_type": "code",
   "execution_count": 6,
   "id": "90b07de0",
   "metadata": {},
   "outputs": [
    {
     "name": "stdout",
     "output_type": "stream",
     "text": [
      "[3.14, 'cat', 11, 'cat', True, 99]\n"
     ]
    }
   ],
   "source": [
    "bacon.append(99)\n",
    "print(bacon)"
   ]
  },
  {
   "cell_type": "markdown",
   "id": "6d6ed906",
   "metadata": {},
   "source": [
    "## 8. How does bacon.remove('cat') change the look of the list in bacon?"
   ]
  },
  {
   "cell_type": "markdown",
   "id": "e72bb28d",
   "metadata": {},
   "source": [
    "bacon.remove('cat') removes the first occurrence of 'cat' from the list, making it [3.14, 11, 'cat', True]."
   ]
  },
  {
   "cell_type": "code",
   "execution_count": 7,
   "id": "af9c8a42",
   "metadata": {},
   "outputs": [
    {
     "name": "stdout",
     "output_type": "stream",
     "text": [
      "[3.14, 11, 'cat', True, 99]\n"
     ]
    }
   ],
   "source": [
    "bacon.remove('cat')\n",
    "print(bacon)"
   ]
  },
  {
   "cell_type": "markdown",
   "id": "380f3f3a",
   "metadata": {},
   "source": [
    "## 9. What are the list concatenation and list replication operators?"
   ]
  },
  {
   "cell_type": "markdown",
   "id": "ec7d1532",
   "metadata": {},
   "source": [
    "The list concatenation operator is +, and the list replication operator is *. Concatenation combines two lists while replication repeats a list a specified number of times."
   ]
  },
  {
   "cell_type": "code",
   "execution_count": 8,
   "id": "3d80dab6",
   "metadata": {},
   "outputs": [
    {
     "name": "stdout",
     "output_type": "stream",
     "text": [
      "[1, 2, 3, 4, 5, 6]\n",
      "[1, 2, 3, 4, 5, 6, 1, 2, 3, 4, 5, 6]\n"
     ]
    }
   ],
   "source": [
    "a = [1,2,3]\n",
    "b = [4,5,6]\n",
    "c = a+b\n",
    "print(c)\n",
    "\n",
    "d = (a + b) * 2 #Concatenated and then replicated\n",
    "print(d)\n"
   ]
  },
  {
   "cell_type": "markdown",
   "id": "28a3448b",
   "metadata": {},
   "source": [
    "## 10. What is difference between the list methods append() and insert()?"
   ]
  },
  {
   "cell_type": "markdown",
   "id": "074a932b",
   "metadata": {},
   "source": [
    "The append() method adds an element to the end of a list, while the insert() method can add an element at any position in the list."
   ]
  },
  {
   "cell_type": "code",
   "execution_count": 9,
   "id": "102cff62",
   "metadata": {},
   "outputs": [
    {
     "name": "stdout",
     "output_type": "stream",
     "text": [
      "[5, 4, 8, 5, 999]\n",
      "[888, 5, 4, 8, 5, 999]\n"
     ]
    }
   ],
   "source": [
    "list1 = [5,4,8,5]\n",
    "list1.append(999)\n",
    "print(list1)\n",
    "\n",
    "list1.insert(0,888)\n",
    "print(list1)"
   ]
  },
  {
   "cell_type": "markdown",
   "id": "f245d3aa",
   "metadata": {},
   "source": [
    "## 11. What are the two methods for removing items from a list?"
   ]
  },
  {
   "cell_type": "markdown",
   "id": "bba14e27",
   "metadata": {},
   "source": [
    "The two methods for removing items from a list are remove(), which removes the first occurrence of a specified value, and pop(), which removes the item at a specified position."
   ]
  },
  {
   "cell_type": "code",
   "execution_count": 10,
   "id": "0e56cef3",
   "metadata": {},
   "outputs": [
    {
     "name": "stdout",
     "output_type": "stream",
     "text": [
      "[4, 8, 5]\n",
      "[4, 8]\n"
     ]
    }
   ],
   "source": [
    "list1 = [5,4,8,5]\n",
    "list1.remove(5)\n",
    "print(list1)\n",
    "\n",
    "list1.pop(-1)\n",
    "print(list1)"
   ]
  },
  {
   "cell_type": "markdown",
   "id": "ad3d4620",
   "metadata": {},
   "source": [
    "## 12. Describe how list values and string values are identical."
   ]
  },
  {
   "cell_type": "markdown",
   "id": "6917e3fd",
   "metadata": {},
   "source": [
    "List values and string values are identical in the following way:\n",
    "* they can both be indexed\n",
    "* sliced\n",
    "* used in for loops\n",
    "* be concatenated\n",
    "* be replicated\n",
    "* and be used with the in and not in operators."
   ]
  },
  {
   "cell_type": "markdown",
   "id": "36e1167d",
   "metadata": {},
   "source": [
    "## 13. What's the difference between tuples and lists?"
   ]
  },
  {
   "cell_type": "markdown",
   "id": "b494e017",
   "metadata": {},
   "source": [
    "The difference between tuples and lists is that tuples are immutable (they cannot be changed), while lists are mutable (they can be changed)."
   ]
  },
  {
   "cell_type": "markdown",
   "id": "43cebc5f",
   "metadata": {},
   "source": [
    "## 14. How do you type a tuple value that only contains the integer 42?"
   ]
  },
  {
   "cell_type": "markdown",
   "id": "cc4d3656",
   "metadata": {},
   "source": [
    "A tuple value that only contains the integer 42 can be typed as (42,). The trailing comma is necessary to distinguish it as a tuple."
   ]
  },
  {
   "cell_type": "code",
   "execution_count": 11,
   "id": "202071f4",
   "metadata": {},
   "outputs": [],
   "source": [
    "tuple_ = (555,)"
   ]
  },
  {
   "cell_type": "markdown",
   "id": "35874cc7",
   "metadata": {},
   "source": [
    "## 15. How do you get a list value's tuple form? How do you get a tuple value's list form?"
   ]
  },
  {
   "cell_type": "markdown",
   "id": "881e71aa",
   "metadata": {},
   "source": [
    "You can get a list value's tuple form using the tuple() function, and a tuple value's list form using the list() function."
   ]
  },
  {
   "cell_type": "code",
   "execution_count": 12,
   "id": "bf3f7c05",
   "metadata": {},
   "outputs": [],
   "source": [
    "a = list()\n",
    "b = tuple()"
   ]
  },
  {
   "cell_type": "markdown",
   "id": "46d84db9",
   "metadata": {},
   "source": [
    "## 16. Variables that \"contain\" list values are not necessarily lists themselves. Instead, what do they contain?"
   ]
  },
  {
   "cell_type": "markdown",
   "id": "d559d95e",
   "metadata": {},
   "source": [
    "Variables that contain list values actually contain references to list values. When you assign a list to a variable, the variable points to the memory location where the list is stored, rather than holding the actual list data."
   ]
  },
  {
   "cell_type": "code",
   "execution_count": 13,
   "id": "e3d75620",
   "metadata": {},
   "outputs": [
    {
     "name": "stdout",
     "output_type": "stream",
     "text": [
      "[1, 2, 3, 999]\n"
     ]
    }
   ],
   "source": [
    "x = [1, 2, 3]\n",
    "y = x\n",
    "\n",
    "x.append(999)\n",
    "print(y) #Variable y is also changed\n"
   ]
  },
  {
   "cell_type": "markdown",
   "id": "2aa94465",
   "metadata": {},
   "source": [
    "## 17. How do you distinguish between copy.copy() and copy.deepcopy()?"
   ]
  },
  {
   "cell_type": "markdown",
   "id": "2f57528a",
   "metadata": {},
   "source": [
    "copy.copy() creates a shallow copy of any iterable object. It means, that the memory location of the original object and the copied object are the same, so anyb changes made in the copied object, also reflects in the original object."
   ]
  },
  {
   "cell_type": "code",
   "execution_count": 14,
   "id": "44063751",
   "metadata": {},
   "outputs": [],
   "source": [
    "#Shallow Copy\n",
    "import copy\n",
    "original_list = [[1,2,3],[4,5,6],7]\n",
    "copied_list = copy.copy(original_list) #Shallow Copy"
   ]
  },
  {
   "cell_type": "code",
   "execution_count": 15,
   "id": "ea604307",
   "metadata": {},
   "outputs": [],
   "source": [
    "copied_list[0][1] = 'abc'"
   ]
  },
  {
   "cell_type": "code",
   "execution_count": 16,
   "id": "3a3dc669",
   "metadata": {},
   "outputs": [
    {
     "data": {
      "text/plain": [
       "[[1, 'abc', 3], [4, 5, 6], 7]"
      ]
     },
     "execution_count": 16,
     "metadata": {},
     "output_type": "execute_result"
    }
   ],
   "source": [
    "original_list #Since the memory location is same, the changes made in the copied\n",
    "# list reflects in the original list as well."
   ]
  },
  {
   "cell_type": "markdown",
   "id": "ec50f725",
   "metadata": {},
   "source": [
    "In deepcopy, an entire copy of the list is created but with a new memory location. It means, any changes made in the copied object, won't reflect in the original object."
   ]
  },
  {
   "cell_type": "code",
   "execution_count": 17,
   "id": "dcb1d996",
   "metadata": {},
   "outputs": [],
   "source": [
    "# Deep Copy\n",
    "import copy\n",
    "og_d_list = [[88,55,66,4],[22,55,77,45], 999]\n",
    "copied_d_list = copy.deepcopy(og_d_list)"
   ]
  },
  {
   "cell_type": "markdown",
   "id": "55131e59",
   "metadata": {},
   "source": [
    "copied_d_list[0][1] = 'India'"
   ]
  },
  {
   "cell_type": "code",
   "execution_count": 19,
   "id": "9d574d4d",
   "metadata": {},
   "outputs": [
    {
     "data": {
      "text/plain": [
       "[[88, 55, 66, 4], [22, 55, 77, 45], 999]"
      ]
     },
     "execution_count": 19,
     "metadata": {},
     "output_type": "execute_result"
    }
   ],
   "source": [
    "#Since the memory location of the new object(copied_d_list) is not the same or linked with the original object,\n",
    "#any changes made will not reflect in the original object.\n",
    "\n",
    "og_d_list \n"
   ]
  }
 ],
 "metadata": {
  "kernelspec": {
   "display_name": "Python 3 (ipykernel)",
   "language": "python",
   "name": "python3"
  },
  "language_info": {
   "codemirror_mode": {
    "name": "ipython",
    "version": 3
   },
   "file_extension": ".py",
   "mimetype": "text/x-python",
   "name": "python",
   "nbconvert_exporter": "python",
   "pygments_lexer": "ipython3",
   "version": "3.11.1"
  }
 },
 "nbformat": 4,
 "nbformat_minor": 5
}
