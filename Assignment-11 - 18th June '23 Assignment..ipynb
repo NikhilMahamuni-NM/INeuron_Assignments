{
 "cells": [
  {
   "cell_type": "markdown",
   "id": "43035c5a",
   "metadata": {},
   "source": [
    "# Assignment-11 - 18th June '23 Assignment."
   ]
  },
  {
   "cell_type": "markdown",
   "id": "d03a29e4",
   "metadata": {},
   "source": [
    "## 1. What is the role of the 'else' block in a try-except statement? Provide an example scenario where it would be useful."
   ]
  },
  {
   "cell_type": "markdown",
   "id": "d3b51d5f",
   "metadata": {},
   "source": [
    "The role of the 'else' block in a try-except statement is to specify a block of code to be executed if no exceptions are raised in the try block. It provides an alternative path of execution when the try block completes successfully."
   ]
  },
  {
   "cell_type": "code",
   "execution_count": 1,
   "id": "4135ed9b",
   "metadata": {},
   "outputs": [
    {
     "name": "stdout",
     "output_type": "stream",
     "text": [
      "Enter your age: 44\n",
      "You are eligible to vote!\n"
     ]
    }
   ],
   "source": [
    "class wrong_age(Exception):\n",
    "    pass\n",
    "\n",
    "n = 18\n",
    "\n",
    "\n",
    "try:\n",
    "    age = int(input(\"Enter your age: \"))\n",
    "    if age < n:\n",
    "        raise wrong_age\n",
    "    else:\n",
    "        print(\"You are eligible to vote!\")\n",
    "\n",
    "except wrong_age:\n",
    "    print(\"You are below 18\")"
   ]
  },
  {
   "cell_type": "markdown",
   "id": "8b56bfca",
   "metadata": {},
   "source": [
    "## 2. Can a try-except block be nested inside another try-except block? Explain with an example."
   ]
  },
  {
   "cell_type": "markdown",
   "id": "9048ef3f",
   "metadata": {},
   "source": [
    "Yes, a try-except block can be nested inside another try-except block. This is known as nested exception handling. It allows for handling different types of exceptions at different levels of code.\n",
    "\n",
    "The inner try-except block handles the ZeroDivisionError, and the outer try-except block handles any other exceptions that may occur."
   ]
  },
  {
   "cell_type": "code",
   "execution_count": 2,
   "id": "9e9a958e",
   "metadata": {},
   "outputs": [
    {
     "name": "stdout",
     "output_type": "stream",
     "text": [
      "Cannot divide by zero!\n"
     ]
    }
   ],
   "source": [
    "try:\n",
    "    try:\n",
    "        result = 10 / 0\n",
    "    except ZeroDivisionError:\n",
    "        print(\"Cannot divide by zero!\")\n",
    "except Exception as e:\n",
    "    print(\"An error occurred:\", str(e))"
   ]
  },
  {
   "cell_type": "markdown",
   "id": "258e15d3",
   "metadata": {},
   "source": [
    "## 3. How can you create a custom exception class in Python? Provide an example that demonstrates its usage."
   ]
  },
  {
   "cell_type": "markdown",
   "id": "b0b0de28",
   "metadata": {},
   "source": [
    "To create a custom exception class in python, we can define a new class that inherits from the built-in Exception class or any of its subclasses.\n",
    "\n",
    "we define a custom exception class called CustomException that inherits from the base Exception class. We then raise an instance of this custom exception and catch it using an except block."
   ]
  },
  {
   "cell_type": "code",
   "execution_count": 3,
   "id": "92f7c02e",
   "metadata": {},
   "outputs": [
    {
     "name": "stdout",
     "output_type": "stream",
     "text": [
      "Custom exception is caught: Custom exception.\n"
     ]
    }
   ],
   "source": [
    "class CustomException(Exception):\n",
    "    pass\n",
    "try:\n",
    "    raise CustomException(\"Custom exception.\")\n",
    "except CustomException as e:\n",
    "    print(\"Custom exception is caught:\", str(e))"
   ]
  },
  {
   "cell_type": "markdown",
   "id": "87119dd7",
   "metadata": {},
   "source": [
    "## 4. What are some common exceptions that are built-in to Python?"
   ]
  },
  {
   "cell_type": "markdown",
   "id": "7efcdade",
   "metadata": {},
   "source": [
    "* ZeroDivisionError: Raised when dividing by zero.\n",
    "* TypeError: Raised when an operation or function is applied to an object of an inappropriate type.\n",
    "* ValueError: Raised when a function receives an argument of the correct type but an inappropriate value.\n",
    "* FileNotFoundError: Raised when a file or directory is requested but cannot be found.\n",
    "* IndexError: Raised when a sequence subscript is out of range."
   ]
  },
  {
   "cell_type": "markdown",
   "id": "a310cd9d",
   "metadata": {},
   "source": [
    "## 5. What is logging in Python, and why is it important in software development?"
   ]
  },
  {
   "cell_type": "markdown",
   "id": "96dc354b",
   "metadata": {},
   "source": [
    "Logging is a technique used to record events or messages during the execution of a program. It allows developers to track the flow of their code, debug issues, and monitor the application's behavior. Logging is important in software development because it provides a systematic way to collect and analyze information about the program's execution."
   ]
  },
  {
   "cell_type": "markdown",
   "id": "dac8a0ff",
   "metadata": {},
   "source": [
    "## 6. Explain the purpose of log levels in Python logging and provide examples of when each log level would be appropriate."
   ]
  },
  {
   "cell_type": "markdown",
   "id": "e20532fc",
   "metadata": {},
   "source": [
    "Log levels are used to categorize log messages based on their severity.\n",
    "\n",
    "* DEBUG: Detailed information, typically used for debugging purposes.\n",
    "* INFO: General information about the program's execution.\n",
    "* WARNING: Indicates a potential issue or something that might cause problems.\n",
    "* ERROR: Indicates a more serious problem that prevents the program from functioning correctly.\n",
    "* CRITICAL: Indicates a critical error that may lead to the termination of the program.\n",
    "\n",
    "The appropriate log level to use depends on the importance and severity of the message being logged. For example, we might use the DEBUG level for detailed debugging information, while the ERROR level is used for critical errors that require immediate attention."
   ]
  },
  {
   "cell_type": "markdown",
   "id": "5c2d098a",
   "metadata": {},
   "source": [
    "## 7. What are log formatters in Python logging, and how can you customise the log message format using formatters?"
   ]
  },
  {
   "cell_type": "markdown",
   "id": "814e3988",
   "metadata": {},
   "source": [
    "Log formatters are used to customize the format of log messages. They define the structure and content of the log output. Python's logging module provides various built-in formatters, such as logging.Formatter, which allows you to specify the format using placeholders and formatting codes."
   ]
  },
  {
   "cell_type": "code",
   "execution_count": 4,
   "id": "636b7d31",
   "metadata": {},
   "outputs": [],
   "source": [
    "import logging\n",
    "\n",
    "logger = logging.getLogger(\"my_logger\")\n",
    "logger.setLevel(logging.INFO)\n",
    "\n",
    "formatter = logging.Formatter(\"%(asctime)s - %(levelname)s - %(message)s\")\n",
    "\n",
    "file_handler = logging.FileHandler(\"app.log\")\n",
    "file_handler.setFormatter(formatter)\n",
    "\n",
    "logger.addHandler(file_handler)\n",
    "\n",
    "logger.info(\"Custom logging messsage!\")"
   ]
  },
  {
   "cell_type": "markdown",
   "id": "2986a94b",
   "metadata": {},
   "source": [
    "## 8. How can you set up logging to capture log messages from multiple modules or classes in a Python application?"
   ]
  },
  {
   "cell_type": "markdown",
   "id": "2a59fb34",
   "metadata": {},
   "source": [
    "To capture log messages from multiple modules or classes in an application, we can use a hierarchical logger structure. Each module or class can has its own logger, and loggers can be organized in a hierarchy based on their names. This allows for more control over logging and enables capturing logs from specific modules or classes."
   ]
  },
  {
   "cell_type": "code",
   "execution_count": 5,
   "id": "f7062425",
   "metadata": {},
   "outputs": [],
   "source": [
    "import logging\n",
    "\n",
    "module1_logger = logging.getLogger(\"module1\")\n",
    "module1_logger.setLevel(logging.DEBUG)\n",
    "\n",
    "module2_logger = logging.getLogger(\"module2\")\n",
    "module2_logger.setLevel(logging.INFO)\n",
    "\n",
    "module1_file_handler = logging.FileHandler(\"module1.log\")\n",
    "module1_logger.addHandler(module1_file_handler)\n",
    "\n",
    "module2_file_handler = logging.FileHandler(\"module2.log\")\n",
    "module2_logger.addHandler(module2_file_handler)\n",
    "\n",
    "module1_logger.debug(\"Debug msg from module1\")\n",
    "module1_logger.info(\"Info msg from module1\")\n",
    "\n",
    "module2_logger.info(\"Info msg from module2\")\n",
    "module2_logger.warning(\"Warning msg from module2\")"
   ]
  },
  {
   "cell_type": "markdown",
   "id": "c16b7c3d",
   "metadata": {},
   "source": [
    "## 9. What is the difference between the logging and print statements in Python? When should you use logging over print statements in a real-world application?"
   ]
  },
  {
   "cell_type": "markdown",
   "id": "d41ca3fe",
   "metadata": {},
   "source": [
    "The main difference between the logging and print statements is their purpose and functionality. The print statement is primarily used for displaying information to the console or standard output, while logging is used for recording events or messages during the execution of a program.\n",
    "\n",
    "In a real-world application, it is generally recommended to use logging over print statements for several reasons:\n",
    "* Logging provides more flexibility and control over the output, allowing us to specify different log levels, log to different destinations, and customize the log message format.\n",
    "* Logging can be easily enabled or disabled based on the log level, allowing us to control the output.\n",
    "* Logging allows us to capture and analyze the program's execution flow, making it easier to debug issues and monitor the application's behavior.\n",
    "* Logging messages can be categorized and filtered based on their severity, making it easier to identify and prioritize issues."
   ]
  },
  {
   "cell_type": "markdown",
   "id": "9b8d5e56",
   "metadata": {},
   "source": [
    "## 10. Write a Python program that logs a message to a file named \"app.log\" with the following requirements:\n",
    "* The log message should be \"Hello, World!\"\n",
    "* The log level should be set to \"INFO.\"\n",
    "* The log file should append new log entries without overwriting previous ones."
   ]
  },
  {
   "cell_type": "code",
   "execution_count": 6,
   "id": "e77ea9e2",
   "metadata": {},
   "outputs": [],
   "source": [
    "import logging\n",
    "\n",
    "logger = logging.getLogger(\"my_logger\")\n",
    "logger.setLevel(logging.INFO)\n",
    "\n",
    "file_handler = logging.FileHandler(\"app.log\")\n",
    "file_handler.setLevel(logging.INFO)\n",
    "\n",
    "formatter = logging.Formatter(\"%(message)s\")\n",
    "\n",
    "file_handler.setFormatter(formatter)\n",
    "\n",
    "logger.addHandler(file_handler)\n",
    "\n",
    "logger.info(\"Hello, India\")"
   ]
  },
  {
   "cell_type": "markdown",
   "id": "340d84c4",
   "metadata": {},
   "source": [
    "## 11. Create a Python program that logs an error message to the console and a file named \"errors.log\" if an exception occurs during the program's execution. The error message should include the exception type and a timestamp."
   ]
  },
  {
   "cell_type": "code",
   "execution_count": 7,
   "id": "a28f69d4",
   "metadata": {},
   "outputs": [
    {
     "name": "stderr",
     "output_type": "stream",
     "text": [
      "2024-02-23 20:41:20,183 - ERROR - An exception occurred: division by zero\n"
     ]
    }
   ],
   "source": [
    "import logging\n",
    "import datetime\n",
    "\n",
    "logger = logging.getLogger(\"error_logger\")\n",
    "logger.setLevel(logging.ERROR)\n",
    "\n",
    "console_handler = logging.StreamHandler()\n",
    "console_handler.setLevel(logging.ERROR)\n",
    "\n",
    "file_handler = logging.FileHandler(\"errors.log\")\n",
    "file_handler.setLevel(logging.ERROR)\n",
    "\n",
    "formatter = logging.Formatter(\"%(asctime)s - %(levelname)s - %(message)s\")\n",
    "\n",
    "console_handler.setFormatter(formatter)\n",
    "file_handler.setFormatter(formatter)\n",
    "\n",
    "logger.addHandler(console_handler)\n",
    "logger.addHandler(file_handler)\n",
    "\n",
    "try:\n",
    "    result = 10 / 0\n",
    "except Exception as e:\n",
    "\n",
    "    logger.error(f\"An exception occurred: {str(e)}\")"
   ]
  }
 ],
 "metadata": {
  "kernelspec": {
   "display_name": "Python 3 (ipykernel)",
   "language": "python",
   "name": "python3"
  },
  "language_info": {
   "codemirror_mode": {
    "name": "ipython",
    "version": 3
   },
   "file_extension": ".py",
   "mimetype": "text/x-python",
   "name": "python",
   "nbconvert_exporter": "python",
   "pygments_lexer": "ipython3",
   "version": "3.11.1"
  }
 },
 "nbformat": 4,
 "nbformat_minor": 5
}
